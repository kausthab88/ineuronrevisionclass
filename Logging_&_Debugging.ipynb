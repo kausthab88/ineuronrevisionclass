{
  "nbformat": 4,
  "nbformat_minor": 0,
  "metadata": {
    "colab": {
      "provenance": [],
      "authorship_tag": "ABX9TyMuwTBtKvnyV21hQhvbr1jG",
      "include_colab_link": true
    },
    "kernelspec": {
      "name": "python3",
      "display_name": "Python 3"
    },
    "language_info": {
      "name": "python"
    }
  },
  "cells": [
    {
      "cell_type": "markdown",
      "metadata": {
        "id": "view-in-github",
        "colab_type": "text"
      },
      "source": [
        "<a href=\"https://colab.research.google.com/github/kausthab88/ineuronrevisionclass/blob/main/Logging_%26_Debugging.ipynb\" target=\"_parent\"><img src=\"https://colab.research.google.com/assets/colab-badge.svg\" alt=\"Open In Colab\"/></a>"
      ]
    },
    {
      "cell_type": "markdown",
      "source": [
        "#### Levels of Logging\n",
        "\n",
        "**DEBUG**: The lowest level of logging, used for detailed information during development and debugging. DEBUG-level messages provide the most detailed information and are typically not enabled in production environments.\n",
        "\n",
        "**INFO**: Used to confirm that things are working as expected. INFO-level messages provide general information about the progress of the application and its components.\n",
        "\n",
        "**WARNING**: Indicates a potential problem or an unexpected condition that does not prevent the application from functioning but might require attention. It is typically used to highlight non-critical issues or warnings that could lead to problems in the future.\n",
        "\n",
        "**ERROR**: Indicates a more serious problem or error that occurred during the execution of the application. An ERROR-level message suggests that the application or a component encountered an error but can still continue running.\n",
        "\n",
        "CRITICAL: The highest level of severity, indicating a critical error or a problem that prevents the application from functioning properly. When a CRITICAL-level message is logged, it usually implies that the application cannot proceed and may need to exit or take drastic measures."
      ],
      "metadata": {
        "id": "KjabfHXptQcb"
      }
    },
    {
      "cell_type": "code",
      "source": [
        "import logging as lg"
      ],
      "metadata": {
        "id": "PuV9bLVTuQOd"
      },
      "execution_count": null,
      "outputs": []
    },
    {
      "cell_type": "code",
      "source": [
        "lg.basicConfig(filename = 'test.log', level= lg.INFO)"
      ],
      "metadata": {
        "id": "mwP1EOjwuWQy"
      },
      "execution_count": null,
      "outputs": []
    },
    {
      "cell_type": "code",
      "source": [
        "lg.basicConfig(filename='test2.log',level = lg.INFO)\n",
        "lg.debug(\"this is for debugging\")\n",
        "lg.info(\"this is info log\")\n",
        "lg.warning(\"this is my warning log\")\n",
        "lg.error(\"this is my error log\")\n",
        "lg.exception(\"this is my exception log\")\n",
        "lg.critical(\"this is my critical log \")"
      ],
      "metadata": {
        "colab": {
          "base_uri": "https://localhost:8080/"
        },
        "id": "xODh-XFTpt0A",
        "outputId": "1f85ec5a-060a-4239-82cc-84f4ecc5ed54"
      },
      "execution_count": null,
      "outputs": [
        {
          "output_type": "stream",
          "name": "stderr",
          "text": [
            "WARNING:root:this is my warning log\n",
            "ERROR:root:this is my error log\n",
            "ERROR:root:this is my exception log\n",
            "NoneType: None\n",
            "CRITICAL:root:this is my critical log \n"
          ]
        }
      ]
    },
    {
      "cell_type": "markdown",
      "source": [
        "#### What is Multithreading?\n",
        "\n",
        "Multithreading in Python refers to the ability of a program to execute multiple threads simultaneously. A thread is a sequence of instructions that can run independently of other threads within a program. Multithreading allows different parts of a program to execute concurrently, potentially improving the overall performance and responsiveness of the application.\n",
        "\n",
        "Threads can be used in situations where multiple tasks or operations need to be performed concurrently. For example, if a program needs to perform heavy computational tasks while also handling user input or network requests, using threads can help ensure that these tasks don't block each other, allowing the program to remain responsive.\n",
        "\n",
        "The `threading` module in Python is used to handle threads. It provides a high-level interface for creating, managing, and synchronizing threads. The threading module allows you to create Thread objects, start them, pause their execution, resume them, and perform other thread-related operations. It also provides synchronization primitives such as locks, events, conditions, and semaphores, which can be used to coordinate the execution of threads and avoid race conditions or other synchronization issues."
      ],
      "metadata": {
        "id": "Dhi0dADjf-R_"
      }
    },
    {
      "cell_type": "code",
      "source": [
        "import threading\n",
        "\n",
        "# Define a function that will be executed in a thread\n",
        "def print_numbers():\n",
        "    for i in range(1, 6):\n",
        "        print(i)\n",
        "\n",
        "# Create a thread object\n",
        "thread = threading.Thread(target=print_numbers)\n",
        "\n",
        "# Start the thread\n",
        "thread.start()\n",
        "\n",
        "# Continue with other tasks while the thread is running\n",
        "print(\"Main thread\")\n",
        "\n",
        "# Wait for the thread to finish\n",
        "thread.join()\n",
        "\n",
        "# The program will now exit\n"
      ],
      "metadata": {
        "colab": {
          "base_uri": "https://localhost:8080/"
        },
        "id": "edTTedjhf-Px",
        "outputId": "17ae68a4-f0c9-46cd-d7c9-446e391750ab"
      },
      "execution_count": null,
      "outputs": [
        {
          "output_type": "stream",
          "name": "stdout",
          "text": [
            "1\n",
            "2\n",
            "3\n",
            "4\n",
            "5\n",
            "Main thread\n"
          ]
        }
      ]
    },
    {
      "cell_type": "markdown",
      "source": [
        "thread.start():\n",
        "\n",
        "start() is a method provided by the Thread class in the threading module.\n",
        "* It is used to start the execution of a thread by invoking the target function defined for that thread.\n",
        "* When start() is called, the thread's run() method is executed concurrently with other threads in the program.\n",
        "* It initiates the execution of the thread in a separate flow of control, allowing it to run concurrently with other threads.\n",
        "* It is important to note that start() can only be called once for each thread. * Attempting to call it multiple times will raise an exception.\n",
        "thread.join():\n",
        "\n",
        "join() is a method provided by the Thread class in the threading module.\n",
        "* It is used to wait for a thread to complete its execution before proceeding with the main thread.\n",
        "* When join() is called on a thread, the calling thread (usually the main thread) will be blocked until the target thread completes.\n",
        "* This ensures that the program does not exit before the completion of important tasks performed by the target thread.\n",
        "* By using join(), you can synchronize the execution of multiple threads and ensure that the main thread waits for the completion of all other threads before terminating the program.\n",
        "\n",
        "Additionally, join() can accept an optional timeout parameter to specify the maximum time the calling thread should wait for the target thread to finish. If the timeout is reached and the target thread has not finished, the calling thread can proceed without waiting any longer."
      ],
      "metadata": {
        "id": "bVAszNTgf-NP"
      }
    },
    {
      "cell_type": "markdown",
      "source": [
        "##### Parallel Functions"
      ],
      "metadata": {
        "id": "b8OyJrkVf-Kv"
      }
    },
    {
      "cell_type": "code",
      "source": [
        "import threading\n",
        "\n",
        "def calculate_square(number):\n",
        "    result = number * number\n",
        "    print(f\"The square of {number} is {result}\")\n",
        "\n",
        "# Create thread objects for each number\n",
        "threads = []\n",
        "for i in range(1, 6):\n",
        "    thread = threading.Thread(target=calculate_square, args=(i,))\n",
        "    threads.append(thread)\n",
        "    thread.start()\n",
        "\n",
        "# Wait for all threads to finish\n",
        "for thread in threads:\n",
        "    thread.join()\n"
      ],
      "metadata": {
        "colab": {
          "base_uri": "https://localhost:8080/"
        },
        "id": "oMSz1yY0f-IX",
        "outputId": "c4abd2cf-1051-43ff-9e04-75500deb861f"
      },
      "execution_count": null,
      "outputs": [
        {
          "output_type": "stream",
          "name": "stdout",
          "text": [
            "The square of 1 is 1\n",
            "The square of 2 is 4\n",
            "The square of 3 is 9\n",
            "The square of 4 is 16\n",
            "The square of 5 is 25\n"
          ]
        }
      ]
    },
    {
      "cell_type": "markdown",
      "source": [
        "In the context of creating multiple threads, **threads.append(thread)** is used to add a thread object to a list of threads. It allows you to keep track of the created threads and perform operations on them later if needed."
      ],
      "metadata": {
        "id": "6oZeEyJJjIPZ"
      }
    },
    {
      "cell_type": "markdown",
      "source": [
        "In this example, a separate thread is created for each number from 1 to 5. The calculate_square function is the target function executed by each thread, which calculates the square of the given number. The threads are started and run concurrently, allowing the squares to be calculated in parallel."
      ],
      "metadata": {
        "id": "C_s5xoVcf-GR"
      }
    },
    {
      "cell_type": "markdown",
      "source": [
        "##### Producer-Consumer Pattern"
      ],
      "metadata": {
        "id": "KxiP72KEf-BZ"
      }
    },
    {
      "cell_type": "code",
      "source": [
        "import threading\n",
        "import queue\n",
        "\n",
        "def producer(queue):\n",
        "    for i in range(1, 6):\n",
        "        queue.put(i)\n",
        "        print(f\"Produced: {i}\")\n",
        "\n",
        "def consumer(queue):\n",
        "    while True:\n",
        "        item = queue.get()\n",
        "        print(f\"Consumed: {item}\")\n",
        "        if item == 5:\n",
        "            break\n",
        "\n",
        "# Create a shared queue\n",
        "shared_queue = queue.Queue()\n",
        "\n",
        "# Create producer and consumer threads\n",
        "producer_thread = threading.Thread(target=producer, args=(shared_queue,))\n",
        "consumer_thread = threading.Thread(target=consumer, args=(shared_queue,))\n",
        "\n",
        "# Start the threads\n",
        "producer_thread.start()\n",
        "consumer_thread.start()\n",
        "\n",
        "# Wait for the threads to finish\n",
        "producer_thread.join()\n",
        "consumer_thread.join()\n"
      ],
      "metadata": {
        "colab": {
          "base_uri": "https://localhost:8080/"
        },
        "id": "J6hjrE_Ff9_I",
        "outputId": "4f334040-7ecd-4b1a-be28-42980778467c"
      },
      "execution_count": null,
      "outputs": [
        {
          "output_type": "stream",
          "name": "stdout",
          "text": [
            "Produced: 1\n",
            "Produced: 2\n",
            "Produced: 3\n",
            "Produced: 4\n",
            "Produced: 5\n",
            "Consumed: 1\n",
            "Consumed: 2\n",
            "Consumed: 3\n",
            "Consumed: 4\n",
            "Consumed: 5\n"
          ]
        }
      ]
    },
    {
      "cell_type": "markdown",
      "source": [
        "In this example, the producer function produces numbers from 1 to 5 and puts them into a shared queue. The consumer function consumes items from the queue until it encounters the number 5. The producer and consumer threads are started and run concurrently, ensuring that items are produced and consumed concurrently."
      ],
      "metadata": {
        "id": "ShnkaBlOf98y"
      }
    },
    {
      "cell_type": "markdown",
      "source": [
        "##### Some important functions:\n",
        "\n",
        "1. activeCount(): The activeCount() function returns the number of Thread objects currently alive. It counts the total number of threads that are currently running or have been started and not yet finished. It's a class method of the threading.Thread class, and you can also access it directly using threading.activeCount()."
      ],
      "metadata": {
        "id": "l8eaWX9Uf96Y"
      }
    },
    {
      "cell_type": "code",
      "source": [
        "import threading\n",
        "\n",
        "# Get the number of active threads\n",
        "count = threading.activeCount()\n",
        "print(f\"Active thread count: {count}\")\n"
      ],
      "metadata": {
        "colab": {
          "base_uri": "https://localhost:8080/"
        },
        "id": "JrL9VAcpf934",
        "outputId": "e2e92d7b-24c8-4186-fb36-a447167ea68e"
      },
      "execution_count": null,
      "outputs": [
        {
          "output_type": "stream",
          "name": "stdout",
          "text": [
            "Active thread count: 5\n"
          ]
        },
        {
          "output_type": "stream",
          "name": "stderr",
          "text": [
            "<ipython-input-4-1189bc542968>:4: DeprecationWarning: activeCount() is deprecated, use active_count() instead\n",
            "  count = threading.activeCount()\n"
          ]
        }
      ]
    },
    {
      "cell_type": "markdown",
      "source": [
        "2. currentThread(): The currentThread() function returns the Thread object corresponding to the current thread. It allows you to obtain a reference to the currently executing thread from within the thread itself. It's a class method of the threading.Thread class, and you can also access it directly using threading.currentThread()"
      ],
      "metadata": {
        "id": "OjcPrlE7f91x"
      }
    },
    {
      "cell_type": "code",
      "source": [
        "import threading\n",
        "\n",
        "# Get the current thread object\n",
        "current_thread = threading.currentThread()\n",
        "print(f\"Current thread: {current_thread}\")\n"
      ],
      "metadata": {
        "colab": {
          "base_uri": "https://localhost:8080/"
        },
        "id": "E4UJ_um8f9zQ",
        "outputId": "bca530db-536a-473e-8cc3-4c1231ec2644"
      },
      "execution_count": null,
      "outputs": [
        {
          "output_type": "stream",
          "name": "stdout",
          "text": [
            "Current thread: <_MainThread(MainThread, started 140589464426304)>\n"
          ]
        },
        {
          "output_type": "stream",
          "name": "stderr",
          "text": [
            "<ipython-input-5-a58d136513a1>:4: DeprecationWarning: currentThread() is deprecated, use current_thread() instead\n",
            "  current_thread = threading.currentThread()\n"
          ]
        }
      ]
    },
    {
      "cell_type": "markdown",
      "source": [
        "3. enumerate(): The enumerate() function returns a list of all Thread objects currently alive. It retrieves a list of all active threads and returns them as a list. It's a class method of the threading.Thread class, and you can also access it directly using\n",
        "`threading.enumerate()`"
      ],
      "metadata": {
        "id": "VlIVGJMLf9xD"
      }
    },
    {
      "cell_type": "code",
      "source": [
        "import threading\n",
        "\n",
        "# Get a list of all active threads\n",
        "thread_list = threading.enumerate()\n",
        "print(\"Active threads:\")\n",
        "for thread in thread_list:\n",
        "    print(thread)\n"
      ],
      "metadata": {
        "colab": {
          "base_uri": "https://localhost:8080/"
        },
        "id": "qtsOU3Ejf9up",
        "outputId": "841e0ff1-70e5-4f8d-8074-4be680c1a774"
      },
      "execution_count": null,
      "outputs": [
        {
          "output_type": "stream",
          "name": "stdout",
          "text": [
            "Active threads:\n",
            "<_MainThread(MainThread, started 140589464426304)>\n",
            "<Thread(Thread-2 (_thread_main), started daemon 140589310265088)>\n",
            "<Heartbeat(Thread-3, started daemon 140589301872384)>\n",
            "<ParentPollerUnix(Thread-1, started daemon 140589254878976)>\n",
            "<Thread(_colab_inspector_thread, started daemon 140588852053760)>\n"
          ]
        }
      ]
    },
    {
      "cell_type": "markdown",
      "source": [
        "4. run(): The run() method is the entry point for the thread's activity. It defines the behavior of the thread when it's started. You typically override this method in a subclass of the threading.Thread class to define the task or operation that the thread should perform. The run() method contains the code that will be executed in the thread."
      ],
      "metadata": {
        "id": "d8TkS4Q_f9rw"
      }
    },
    {
      "cell_type": "code",
      "source": [
        "import threading\n",
        "\n",
        "class MyThread(threading.Thread):\n",
        "    def run(self):\n",
        "        # Code to be executed in the thread\n",
        "        print(\"Thread is running\")\n",
        "\n",
        "# Create and start the thread\n",
        "thread = MyThread()\n",
        "thread.start()\n"
      ],
      "metadata": {
        "colab": {
          "base_uri": "https://localhost:8080/"
        },
        "id": "cAYNTafUf9po",
        "outputId": "fa2ee829-33b9-401b-bb34-7457d7640783"
      },
      "execution_count": null,
      "outputs": [
        {
          "output_type": "stream",
          "name": "stdout",
          "text": [
            "Thread is running\n"
          ]
        }
      ]
    },
    {
      "cell_type": "markdown",
      "source": [
        "5. start(): The start() method is used to start a thread's activity. It initiates the execution of the thread by invoking the run() method. When start() is called, a new system-level thread is created, and the run() method of the thread is called in that separate thread. It allows concurrent execution of multiple threads in your program."
      ],
      "metadata": {
        "id": "2DbSoztHf9m5"
      }
    },
    {
      "cell_type": "code",
      "source": [
        "import threading\n",
        "\n",
        "def print_numbers():\n",
        "    for i in range(1, 6):\n",
        "        print(i)\n",
        "\n",
        "# Create a thread object\n",
        "thread = threading.Thread(target=print_numbers)\n",
        "\n",
        "# Start the thread\n",
        "thread.start()\n"
      ],
      "metadata": {
        "colab": {
          "base_uri": "https://localhost:8080/"
        },
        "id": "O533vft_k8EW",
        "outputId": "5f3b4f92-e192-49b6-901b-891cdc7bd5c8"
      },
      "execution_count": null,
      "outputs": [
        {
          "output_type": "stream",
          "name": "stdout",
          "text": [
            "1"
          ]
        }
      ]
    },
    {
      "cell_type": "markdown",
      "source": [
        "6. join(): The join() method is used to wait for a thread to complete its execution. It blocks the calling thread until the thread on which it's called terminates. This allows you to ensure that the main thread or other threads wait for a specific thread to finish before proceeding."
      ],
      "metadata": {
        "id": "qPsWNaLlk-Y2"
      }
    },
    {
      "cell_type": "code",
      "source": [
        "import threading\n",
        "\n",
        "def print_numbers():\n",
        "    for i in range(1, 6):\n",
        "        print(i)\n",
        "\n",
        "# Create a thread object\n",
        "thread = threading.Thread(target=print_numbers)\n",
        "\n",
        "# Start the thread\n",
        "thread.start()\n",
        "\n",
        "# Wait for the thread to finish\n",
        "thread.join()\n",
        "\n",
        "print(\"Thread has finished\")\n"
      ],
      "metadata": {
        "colab": {
          "base_uri": "https://localhost:8080/"
        },
        "id": "fNzyY85tlKO4",
        "outputId": "73ba3f84-a3f2-4b72-c576-25d8d8ca2884"
      },
      "execution_count": null,
      "outputs": [
        {
          "output_type": "stream",
          "name": "stdout",
          "text": [
            "1\n",
            "2\n",
            "3\n",
            "4\n",
            "5\n",
            "Thread has finished\n"
          ]
        }
      ]
    },
    {
      "cell_type": "markdown",
      "source": [
        "7. isAlive(): The isAlive() method is used to check whether a thread is currently alive or running. It returns True if the thread is still executing and False otherwise. This method can be used to determine the status of a thread and take appropriate actions based on its state."
      ],
      "metadata": {
        "id": "k0FR1ezTlNKL"
      }
    },
    {
      "cell_type": "code",
      "source": [
        "import threading\n",
        "import time\n",
        "\n",
        "def print_numbers():\n",
        "    for i in range(1, 6):\n",
        "        print(i)\n",
        "        time.sleep(1)\n",
        "\n",
        "# Create a thread object\n",
        "thread = threading.Thread(target=print_numbers)\n",
        "\n",
        "# Start the thread\n",
        "thread.start()\n",
        "\n",
        "# Check if the thread is alive\n",
        "if thread.is_alive():\n",
        "    print(\"Thread is currently running\")\n",
        "else:\n",
        "    print(\"Thread has finished\")\n"
      ],
      "metadata": {
        "colab": {
          "base_uri": "https://localhost:8080/"
        },
        "id": "S3Y-nLnclTdH",
        "outputId": "b0fbf5de-4be5-40ae-f7f4-48156312fb28"
      },
      "execution_count": null,
      "outputs": [
        {
          "output_type": "stream",
          "name": "stdout",
          "text": [
            "1Thread is currently running\n",
            "\n"
          ]
        }
      ]
    },
    {
      "cell_type": "markdown",
      "source": [
        "Write a python program to create two threads. Thread one must print the list of squares and thread\n",
        "two must print the list of cubes"
      ],
      "metadata": {
        "id": "XqsoAn4RlVjT"
      }
    },
    {
      "cell_type": "code",
      "source": [
        "import threading\n",
        "\n",
        "def print_squares():\n",
        "    for i in range(1, 6):\n",
        "        square = i ** 2\n",
        "        print(f\"Square of {i}: {square}\")\n",
        "\n",
        "def print_cubes():\n",
        "    for i in range(1, 6):\n",
        "        cube = i ** 3\n",
        "        print(f\"Cube of {i}: {cube}\")\n",
        "\n",
        "# Create thread one for printing squares\n",
        "thread1 = threading.Thread(target=print_squares)\n",
        "\n",
        "# Create thread two for printing cubes\n",
        "thread2 = threading.Thread(target=print_cubes)\n",
        "\n",
        "# Start both threads\n",
        "thread1.start()\n",
        "thread2.start()\n",
        "\n",
        "# Wait for both threads to finish\n",
        "thread1.join()\n",
        "thread2.join()\n",
        "\n",
        "print(\"Main thread exits\")\n"
      ],
      "metadata": {
        "colab": {
          "base_uri": "https://localhost:8080/"
        },
        "id": "moQ3v3sYl7UT",
        "outputId": "502da42f-b441-4924-dd73-32d5bc29409d"
      },
      "execution_count": null,
      "outputs": [
        {
          "output_type": "stream",
          "name": "stdout",
          "text": [
            "Square of 1: 1\n",
            "Square of 2: 4Cube of 1: 1\n",
            "Square of 3: 9\n",
            "Square of 4: 16\n",
            "Square of 5: 25\n",
            "\n",
            "Cube of 2: 8\n",
            "Cube of 3: 27\n",
            "Cube of 4: 64\n",
            "Cube of 5: 125\n",
            "Main thread exits\n"
          ]
        }
      ]
    },
    {
      "cell_type": "markdown",
      "source": [
        "#### Multiprocessing"
      ],
      "metadata": {
        "id": "85oW1BSHmCDP"
      }
    },
    {
      "cell_type": "markdown",
      "source": [
        "Multiprocessing refers to the ability of a program to execute multiple processes concurrently. A process is an instance of a program that runs independently and has its own memory space. Each process runs in a separate instance of the Python interpreter and can execute its own set of instructions."
      ],
      "metadata": {
        "id": "5D1Rn0RHmPgN"
      }
    },
    {
      "cell_type": "markdown",
      "source": [
        "Write a python code to create a process using the multiprocessing module."
      ],
      "metadata": {
        "id": "628-cJY7mfxQ"
      }
    },
    {
      "cell_type": "code",
      "source": [
        "import multiprocessing\n",
        "\n",
        "def process_function():\n",
        "    # Code to be executed in the process\n",
        "    print(\"This is a child process\")\n",
        "\n",
        "if __name__ == \"__main__\":\n",
        "    # Create a process object\n",
        "    process = multiprocessing.Process(target=process_function)\n",
        "\n",
        "    # Start the process\n",
        "    process.start()\n",
        "\n",
        "    # Wait for the process to finish\n",
        "    process.join()\n",
        "\n",
        "    print(\"Main process exits\")\n"
      ],
      "metadata": {
        "colab": {
          "base_uri": "https://localhost:8080/"
        },
        "id": "WvLHFCNomvRU",
        "outputId": "b1d54a8d-9c64-4708-8066-bb9415525f10"
      },
      "execution_count": null,
      "outputs": [
        {
          "output_type": "stream",
          "name": "stdout",
          "text": [
            "This is a child process\n",
            "Main process exits\n"
          ]
        }
      ]
    },
    {
      "cell_type": "markdown",
      "source": [
        "##### Multiprocessing pool\n",
        "\n"
      ],
      "metadata": {
        "id": "J3mFgWpBmzaD"
      }
    },
    {
      "cell_type": "code",
      "source": [
        "import multiprocessing\n",
        "\n",
        "def calculate_square(number):\n",
        "    return number * number\n",
        "\n",
        "if __name__ == \"__main__\":\n",
        "    # Create a multiprocessing pool with 4 worker processes\n",
        "    pool = multiprocessing.Pool(processes=4)\n",
        "\n",
        "    # Generate a list of numbers\n",
        "    numbers = [1, 2, 3, 4, 5]\n",
        "\n",
        "    # Calculate squares using the pool in parallel\n",
        "    results = pool.map(calculate_square, numbers)\n",
        "\n",
        "    # Close the pool and wait for the worker processes to finish\n",
        "    pool.close()\n",
        "    pool.join()\n",
        "\n",
        "    print(\"Squares:\", results)\n"
      ],
      "metadata": {
        "colab": {
          "base_uri": "https://localhost:8080/"
        },
        "id": "5Lqz75lCoqHP",
        "outputId": "bb11038b-aeb9-4ea1-8fc3-cca50c209601"
      },
      "execution_count": null,
      "outputs": [
        {
          "output_type": "stream",
          "name": "stdout",
          "text": [
            "Squares: [1, 4, 9, 16, 25]\n"
          ]
        }
      ]
    },
    {
      "cell_type": "markdown",
      "source": [
        "##### Creating pool of worker processes"
      ],
      "metadata": {
        "id": "33Ga0ZiGoqlJ"
      }
    },
    {
      "cell_type": "code",
      "source": [
        "import multiprocessing\n",
        "\n",
        "def worker_function(task):\n",
        "    # Perform the task\n",
        "    result = task * 2\n",
        "    return result\n",
        "\n",
        "if __name__ == \"__main__\":\n",
        "    # Create a pool of 4 worker processes\n",
        "    pool = multiprocessing.Pool(processes=4)\n",
        "\n",
        "    # Define the tasks\n",
        "    tasks = [1, 2, 3, 4, 5]\n",
        "\n",
        "    # Distribute the tasks among the workers in the pool\n",
        "    results = pool.map(worker_function, tasks)\n",
        "\n",
        "    # Close the pool and wait for the worker processes to finish\n",
        "    pool.close()\n",
        "    pool.join()\n",
        "\n",
        "    print(\"Results:\", results)\n"
      ],
      "metadata": {
        "colab": {
          "base_uri": "https://localhost:8080/"
        },
        "id": "dnNmWs83o3Bb",
        "outputId": "97ad26d3-8b3e-4875-eab5-b6544c4b03a4"
      },
      "execution_count": null,
      "outputs": [
        {
          "output_type": "stream",
          "name": "stdout",
          "text": [
            "Results: [2, 4, 6, 8, 10]\n"
          ]
        }
      ]
    },
    {
      "cell_type": "markdown",
      "source": [
        "##### 4 process printing different numbers"
      ],
      "metadata": {
        "id": "1x6lxTWSo3hF"
      }
    },
    {
      "cell_type": "code",
      "source": [
        "import multiprocessing\n",
        "\n",
        "def print_number(number):\n",
        "    print(f\"Process ID: {multiprocessing.current_process().pid}, Number: {number}\")\n",
        "\n",
        "if __name__ == \"__main__\":\n",
        "    numbers = [1, 2, 3, 4]\n",
        "\n",
        "    processes = []\n",
        "    for number in numbers:\n",
        "        process = multiprocessing.Process(target=print_number, args=(number,))\n",
        "        processes.append(process)\n",
        "        process.start()\n",
        "\n",
        "    for process in processes:\n",
        "        process.join()\n",
        "\n",
        "    print(\"Main process exits\")\n"
      ],
      "metadata": {
        "colab": {
          "base_uri": "https://localhost:8080/"
        },
        "id": "J9xkkkgHpC7L",
        "outputId": "25e43ac6-22d4-45cf-ab6e-16ebe7fc6c3c"
      },
      "execution_count": null,
      "outputs": [
        {
          "output_type": "stream",
          "name": "stdout",
          "text": [
            "Process ID: 10146, Number: 1Process ID: 10149, Number: 2\n",
            "\n",
            "Process ID: 10154, Number: 3\n",
            "Process ID: 10159, Number: 4\n",
            "Main process exits\n"
          ]
        }
      ]
    },
    {
      "cell_type": "markdown",
      "source": [
        "\n",
        "#### Difference between Multithreading and Multiprocessing"
      ],
      "metadata": {
        "id": "Q7Y2boYPpDd8"
      }
    },
    {
      "cell_type": "markdown",
      "source": [
        "**Execution Model:**\n",
        "\n",
        "Multiprocessing: In multiprocessing, multiple processes are created, each with its own memory space and Python interpreter. Each process runs independently and can execute its own set of instructions. Processes communicate and synchronize using inter-process communication mechanisms such as pipes, queues, or shared memory.\n",
        "\n",
        "Multithreading: In multithreading, multiple threads are created within a single process. All threads share the same memory space and can access shared data directly. Threads run concurrently within the same Python interpreter and can communicate and synchronize using thread-safe data structures and synchronization primitives.\n",
        "\n",
        "**Parallelism**:\n",
        "\n",
        "Multiprocessing: Multiprocessing allows for true parallelism. Since each process runs in a separate instance of the Python interpreter and has its own memory space, they can be executed in parallel across multiple processors or CPU cores, utilizing the full power of the system.\n",
        "Multithreading: Multithreading achieves concurrency within a single process, but it doesn't necessarily achieve true parallelism. Due to the Global Interpreter Lock (GIL) in CPython, which allows only one thread to execute Python bytecode at a time, multithreading in CPython is often limited to concurrent execution rather than parallel execution. However, threads can still be useful for I/O-bound tasks or when using external libraries that release the GIL.\n",
        "\n",
        "**Memory and Overhead:**\n",
        "\n",
        "Multiprocessing: Each process in multiprocessing has its own memory space, which means memory is not shared between processes by default. This isolation provides better stability but comes with the overhead of inter-process communication and managing separate memory spaces.\n",
        "Multithreading: Threads within a process share the same memory space, allowing direct access to shared data. This shared memory simplifies data sharing between threads but requires careful synchronization to avoid race conditions and ensure thread safety.\n",
        "Resource Utilization:\n",
        "\n",
        "Multiprocessing: Multiprocessing can efficiently utilize multiple processors or CPU cores, making it suitable for CPU-bound tasks or computationally intensive operations that can be parallelized.\n",
        "Multithreading: Multithreading is beneficial for I/O-bound tasks, where threads can overlap waiting for input/output operations. It can enhance the responsiveness and performance of applications that involve waiting for external resources like disk I/O, network requests, or user input.\n",
        "\n",
        "**Complexity:**\n",
        "\n",
        "Multiprocessing: Multiprocessing introduces additional complexity due to separate memory spaces, inter-process communication, and coordination between processes. Proper synchronization and data sharing mechanisms are crucial to avoid issues like deadlocks and race conditions.\n",
        "\n",
        "Multithreading: Multithreading within a single process is generally less complex than multiprocessing since threads share the same memory space. However, synchronization and thread safety must still be carefully managed to prevent race conditions and ensure data integrity."
      ],
      "metadata": {
        "id": "i4vOOdJUoL-j"
      }
    }
  ]
}