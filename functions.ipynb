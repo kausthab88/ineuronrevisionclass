{
 "cells": [
  {
   "cell_type": "code",
   "execution_count": 1,
   "id": "df7d422c-ee07-4d70-b31c-402a4fc6546e",
   "metadata": {},
   "outputs": [
    {
     "name": "stdout",
     "output_type": "stream",
     "text": [
      "1\n",
      "2\n",
      "3\n",
      "4\n"
     ]
    }
   ],
   "source": [
    "for i in [1,2,3,4]:\n",
    "    print(i)"
   ]
  },
  {
   "cell_type": "code",
   "execution_count": 2,
   "id": "5af32e2d-4823-442a-97b0-dbdbb7e08e2a",
   "metadata": {},
   "outputs": [
    {
     "data": {
      "text/plain": [
       "50"
      ]
     },
     "execution_count": 2,
     "metadata": {},
     "output_type": "execute_result"
    }
   ],
   "source": [
    "x = 20\n",
    "y = 30\n",
    "\n",
    "x+y"
   ]
  },
  {
   "cell_type": "code",
   "execution_count": 3,
   "id": "ea15d286-3902-45ed-afbf-9dcf8604fd6d",
   "metadata": {},
   "outputs": [
    {
     "data": {
      "text/plain": [
       "250"
      ]
     },
     "execution_count": 3,
     "metadata": {},
     "output_type": "execute_result"
    }
   ],
   "source": [
    "x = 50\n",
    "y = 5\n",
    "\n",
    "x*y"
   ]
  },
  {
   "cell_type": "code",
   "execution_count": 5,
   "id": "741d9a3d-f8c6-4d8e-adac-903111828443",
   "metadata": {},
   "outputs": [
    {
     "data": {
      "text/plain": [
       "450.0"
      ]
     },
     "execution_count": 5,
     "metadata": {},
     "output_type": "execute_result"
    }
   ],
   "source": [
    "x = 100\n",
    "y = 4.5\n",
    "\n",
    "x*y"
   ]
  },
  {
   "cell_type": "code",
   "execution_count": 6,
   "id": "f6e38bdb-b337-4e08-927d-0392a9efee4a",
   "metadata": {},
   "outputs": [],
   "source": [
    "def total_cost(x,y):\n",
    "    print(x*y)"
   ]
  },
  {
   "cell_type": "code",
   "execution_count": 9,
   "id": "09c7e2ad-a5ce-474d-ba6c-0c43d89402bf",
   "metadata": {},
   "outputs": [
    {
     "name": "stdout",
     "output_type": "stream",
     "text": [
      "240\n"
     ]
    }
   ],
   "source": [
    "total_checkout = total_cost(40,6)"
   ]
  },
  {
   "cell_type": "code",
   "execution_count": 11,
   "id": "cacf264b-28f6-410f-bdb7-b35bd3f06f12",
   "metadata": {},
   "outputs": [
    {
     "name": "stdout",
     "output_type": "stream",
     "text": [
      "240\n"
     ]
    },
    {
     "data": {
      "text/plain": [
       "NoneType"
      ]
     },
     "execution_count": 11,
     "metadata": {},
     "output_type": "execute_result"
    }
   ],
   "source": [
    "type(total_cost(40,6))"
   ]
  },
  {
   "cell_type": "code",
   "execution_count": 12,
   "id": "7971eca8-975a-4815-b1e9-289ac8f0e940",
   "metadata": {},
   "outputs": [],
   "source": [
    "def total_cost(x,y):\n",
    "    return (x*y)"
   ]
  },
  {
   "cell_type": "code",
   "execution_count": 13,
   "id": "c8bf96c2-2272-432d-a97e-71be57c78bcb",
   "metadata": {},
   "outputs": [],
   "source": [
    "total_checkout = total_cost(40,6)"
   ]
  },
  {
   "cell_type": "code",
   "execution_count": 16,
   "id": "98c9470c-5f93-47af-a722-2b7ad4dd29ec",
   "metadata": {},
   "outputs": [
    {
     "data": {
      "text/plain": [
       "int"
      ]
     },
     "execution_count": 16,
     "metadata": {},
     "output_type": "execute_result"
    }
   ],
   "source": [
    "type(total_checkout)"
   ]
  },
  {
   "cell_type": "code",
   "execution_count": 17,
   "id": "2aa0fa06-6b2c-4cd7-90c8-a40d2db6905e",
   "metadata": {},
   "outputs": [],
   "source": [
    "some_list = [1,2,3,4,5,6,7,8]"
   ]
  },
  {
   "cell_type": "code",
   "execution_count": 18,
   "id": "f3ec499f-2c01-4573-9b97-d08b71ff0631",
   "metadata": {},
   "outputs": [
    {
     "name": "stdout",
     "output_type": "stream",
     "text": [
      "1\n",
      "4\n",
      "9\n",
      "16\n",
      "25\n",
      "36\n",
      "49\n",
      "64\n"
     ]
    }
   ],
   "source": [
    "for i in some_list:\n",
    "    print(i**2)"
   ]
  },
  {
   "cell_type": "markdown",
   "id": "62b5ca6a-99c0-4e43-8489-2a9d8797860d",
   "metadata": {},
   "source": [
    "##### Generating a sequene of numbers"
   ]
  },
  {
   "cell_type": "code",
   "execution_count": 25,
   "id": "93c72ca8-ff12-4708-876c-ece0139e045a",
   "metadata": {},
   "outputs": [],
   "source": [
    "def number_sequence(n):\n",
    "    for i in range(n):\n",
    "        yield i"
   ]
  },
  {
   "cell_type": "code",
   "execution_count": 20,
   "id": "e14e4dc5-867c-45da-b629-36287ab4905e",
   "metadata": {},
   "outputs": [
    {
     "data": {
      "text/plain": [
       "<generator object number_sequence at 0x7fe0241466c0>"
      ]
     },
     "execution_count": 20,
     "metadata": {},
     "output_type": "execute_result"
    }
   ],
   "source": [
    "number_sequence(5)"
   ]
  },
  {
   "cell_type": "code",
   "execution_count": 23,
   "id": "6871c08d-823f-4c89-9c61-07ca1e895928",
   "metadata": {},
   "outputs": [],
   "source": [
    "def number_sequence(n):\n",
    "    for i in range(n):\n",
    "        print( i)"
   ]
  },
  {
   "cell_type": "code",
   "execution_count": 24,
   "id": "20e2e045-9240-42f6-bf1c-87b169f544f4",
   "metadata": {},
   "outputs": [
    {
     "name": "stdout",
     "output_type": "stream",
     "text": [
      "0\n",
      "1\n",
      "2\n",
      "3\n",
      "4\n"
     ]
    }
   ],
   "source": [
    "number_sequence(5)"
   ]
  },
  {
   "cell_type": "code",
   "execution_count": 26,
   "id": "bb546cf4-2780-43e7-9ce3-e2fcf8d58e96",
   "metadata": {},
   "outputs": [
    {
     "name": "stdout",
     "output_type": "stream",
     "text": [
      "[0, 1, 2, 3, 4]\n"
     ]
    }
   ],
   "source": [
    "seq_gen = number_sequence(5)\n",
    "\n",
    "print(list(seq_gen))"
   ]
  },
  {
   "cell_type": "markdown",
   "id": "3c4ea706-112a-48b2-b34e-9448270f9f4e",
   "metadata": {},
   "source": [
    "##### Write a function to generate random numbers"
   ]
  },
  {
   "cell_type": "code",
   "execution_count": 27,
   "id": "9adb47dd-aba1-4f67-9d46-0e9b7aca0933",
   "metadata": {},
   "outputs": [],
   "source": [
    "import random"
   ]
  },
  {
   "cell_type": "code",
   "execution_count": 50,
   "id": "bb277f72-7807-46ec-b461-de41bb736e8c",
   "metadata": {},
   "outputs": [],
   "source": [
    "def random_num_generator():\n",
    "    while True:\n",
    "        yield random.randint(1,50)"
   ]
  },
  {
   "cell_type": "code",
   "execution_count": 51,
   "id": "3806a5b7-d879-4398-8dce-63e0f2738492",
   "metadata": {},
   "outputs": [
    {
     "data": {
      "text/plain": [
       "[8, 35, 24, 1, 39]"
      ]
     },
     "execution_count": 51,
     "metadata": {},
     "output_type": "execute_result"
    }
   ],
   "source": [
    "random_gen = random_num_generator()\n",
    "\n",
    "[next(random_gen) for _ in range(5)]"
   ]
  },
  {
   "cell_type": "code",
   "execution_count": 36,
   "id": "29eaaad2-91f9-44ec-8d7c-19315b0fc963",
   "metadata": {},
   "outputs": [],
   "source": [
    "x = 'elephant'"
   ]
  },
  {
   "cell_type": "code",
   "execution_count": 37,
   "id": "3610994a-7bd5-4582-a549-10613f570aaf",
   "metadata": {},
   "outputs": [
    {
     "name": "stdout",
     "output_type": "stream",
     "text": [
      "e\n",
      "l\n",
      "e\n",
      "p\n",
      "h\n",
      "a\n",
      "n\n",
      "t\n"
     ]
    }
   ],
   "source": [
    "for i in x:\n",
    "    print(i)"
   ]
  },
  {
   "cell_type": "code",
   "execution_count": 38,
   "id": "05b88908-5956-43b8-ac3a-b43394fe3ca3",
   "metadata": {},
   "outputs": [
    {
     "ename": "TypeError",
     "evalue": "'str' object is not an iterator",
     "output_type": "error",
     "traceback": [
      "\u001b[0;31m---------------------------------------------------------------------------\u001b[0m",
      "\u001b[0;31mTypeError\u001b[0m                                 Traceback (most recent call last)",
      "Cell \u001b[0;32mIn[38], line 1\u001b[0m\n\u001b[0;32m----> 1\u001b[0m \u001b[38;5;28;43mnext\u001b[39;49m\u001b[43m(\u001b[49m\u001b[43mx\u001b[49m\u001b[43m)\u001b[49m\n",
      "\u001b[0;31mTypeError\u001b[0m: 'str' object is not an iterator"
     ]
    }
   ],
   "source": [
    "next(x)"
   ]
  },
  {
   "cell_type": "code",
   "execution_count": 40,
   "id": "c283882d-2d67-4ec6-a64a-3aa4051da9e4",
   "metadata": {},
   "outputs": [],
   "source": [
    "x = iter(x)"
   ]
  },
  {
   "cell_type": "code",
   "execution_count": 49,
   "id": "fcda8948-f359-4e6e-adee-fd0231cfe53c",
   "metadata": {},
   "outputs": [
    {
     "ename": "StopIteration",
     "evalue": "",
     "output_type": "error",
     "traceback": [
      "\u001b[0;31m---------------------------------------------------------------------------\u001b[0m",
      "\u001b[0;31mStopIteration\u001b[0m                             Traceback (most recent call last)",
      "Cell \u001b[0;32mIn[49], line 1\u001b[0m\n\u001b[0;32m----> 1\u001b[0m \u001b[38;5;28;43mnext\u001b[39;49m\u001b[43m(\u001b[49m\u001b[43mx\u001b[49m\u001b[43m)\u001b[49m\n",
      "\u001b[0;31mStopIteration\u001b[0m: "
     ]
    }
   ],
   "source": [
    "next(x)"
   ]
  },
  {
   "cell_type": "markdown",
   "id": "a9bd5041-1c88-4e65-a815-f26193842706",
   "metadata": {},
   "source": [
    "##### Generating prime numbers"
   ]
  },
  {
   "cell_type": "code",
   "execution_count": 55,
   "id": "c18e64e5-6e81-467f-a342-df541dbe3284",
   "metadata": {},
   "outputs": [],
   "source": [
    "def prime_num_generator():\n",
    "    num = 2\n",
    "    while True:\n",
    "        if is_prime(num):\n",
    "            yield num\n",
    "        num = num+1\n",
    "        \n",
    "        \n",
    "        \n",
    "        \n",
    "def is_prime(n):\n",
    "    if n<2:\n",
    "        return False\n",
    "    for i in range(2,int(n**0.5)+1):\n",
    "        if n % i == 0:\n",
    "            return False\n",
    "    return True     \n",
    "        \n"
   ]
  },
  {
   "cell_type": "code",
   "execution_count": 52,
   "id": "050c6fca-8164-4760-9209-ab04c48d299b",
   "metadata": {},
   "outputs": [],
   "source": []
  },
  {
   "cell_type": "code",
   "execution_count": 54,
   "id": "b5c21ecc-1119-42f3-b687-c66b750a43ba",
   "metadata": {},
   "outputs": [
    {
     "data": {
      "text/plain": [
       "False"
      ]
     },
     "execution_count": 54,
     "metadata": {},
     "output_type": "execute_result"
    }
   ],
   "source": [
    "is_prime(10)"
   ]
  },
  {
   "cell_type": "code",
   "execution_count": 56,
   "id": "6cbbe833-543e-44ac-9d07-0b0977fe472c",
   "metadata": {},
   "outputs": [
    {
     "data": {
      "text/plain": [
       "[2, 3, 5, 7, 11, 13, 17, 19, 23, 29]"
      ]
     },
     "execution_count": 56,
     "metadata": {},
     "output_type": "execute_result"
    }
   ],
   "source": [
    "prime_gen = prime_num_generator()\n",
    "\n",
    "[next(prime_gen) for _ in range(10)]"
   ]
  },
  {
   "cell_type": "markdown",
   "id": "04d40b50-1541-466e-8208-9ecc4875d8e3",
   "metadata": {},
   "source": [
    "#### LAMBDA Functions\n",
    "\n",
    "Anonymous functions"
   ]
  },
  {
   "cell_type": "code",
   "execution_count": 59,
   "id": "be4b8aa2-f781-4a6f-b117-b6d951c71922",
   "metadata": {},
   "outputs": [],
   "source": [
    "def add_num(x,y):\n",
    "    print(x+y)"
   ]
  },
  {
   "cell_type": "code",
   "execution_count": 61,
   "id": "aa313837-cb9e-4520-9004-99665ca388bd",
   "metadata": {},
   "outputs": [],
   "source": [
    "add_num = lambda x,y:x+y"
   ]
  },
  {
   "cell_type": "code",
   "execution_count": 62,
   "id": "8371c092-a188-45cd-8fb6-92128d8fa5ab",
   "metadata": {},
   "outputs": [
    {
     "data": {
      "text/plain": [
       "24"
      ]
     },
     "execution_count": 62,
     "metadata": {},
     "output_type": "execute_result"
    }
   ],
   "source": [
    "add_num(12,12)"
   ]
  },
  {
   "cell_type": "code",
   "execution_count": 63,
   "id": "c8e49944-9511-4023-8a4d-b285e8adf1f0",
   "metadata": {},
   "outputs": [],
   "source": [
    "#square a number\n",
    "\n",
    "y = lambda x:x**2"
   ]
  },
  {
   "cell_type": "code",
   "execution_count": 64,
   "id": "69d1f9fa-24c9-4a4b-96da-e8f99c94e80f",
   "metadata": {},
   "outputs": [
    {
     "data": {
      "text/plain": [
       "36"
      ]
     },
     "execution_count": 64,
     "metadata": {},
     "output_type": "execute_result"
    }
   ],
   "source": [
    "y(6)"
   ]
  },
  {
   "cell_type": "code",
   "execution_count": 65,
   "id": "60abc710-1501-474a-a63a-f03f5d4b343c",
   "metadata": {},
   "outputs": [],
   "source": [
    "#check if a number is even\n",
    "\n",
    "is_even = lambda x: x%2 == 0"
   ]
  },
  {
   "cell_type": "code",
   "execution_count": 66,
   "id": "0b01e67e-d237-46de-9af5-19c92491adf5",
   "metadata": {},
   "outputs": [
    {
     "data": {
      "text/plain": [
       "False"
      ]
     },
     "execution_count": 66,
     "metadata": {},
     "output_type": "execute_result"
    }
   ],
   "source": [
    "is_even(7)"
   ]
  },
  {
   "cell_type": "code",
   "execution_count": 67,
   "id": "a4cf982e-cac1-482b-a6cb-830e35f4db83",
   "metadata": {},
   "outputs": [
    {
     "data": {
      "text/plain": [
       "True"
      ]
     },
     "execution_count": 67,
     "metadata": {},
     "output_type": "execute_result"
    }
   ],
   "source": [
    "is_even(10)"
   ]
  },
  {
   "cell_type": "code",
   "execution_count": 68,
   "id": "c9c875c0-2fe9-47f5-81e1-e55283edf118",
   "metadata": {},
   "outputs": [],
   "source": [
    "#lambda function to convert string to upper case\n",
    "\n",
    "to_upper = lambda s: s.upper()"
   ]
  },
  {
   "cell_type": "code",
   "execution_count": 69,
   "id": "0d31093b-ec70-496a-80cc-7cfa7b69bc1a",
   "metadata": {},
   "outputs": [
    {
     "data": {
      "text/plain": [
       "'HELLO'"
      ]
     },
     "execution_count": 69,
     "metadata": {},
     "output_type": "execute_result"
    }
   ],
   "source": [
    "to_upper('hello')"
   ]
  },
  {
   "cell_type": "code",
   "execution_count": 77,
   "id": "ddd5d1af-fecb-4b69-96c2-9d5e81e8aefb",
   "metadata": {},
   "outputs": [
    {
     "data": {
      "text/plain": [
       "15"
      ]
     },
     "execution_count": 77,
     "metadata": {},
     "output_type": "execute_result"
    }
   ],
   "source": [
    "#compute the average of a list of numbers\n",
    "\n",
    "num = [1,2,3,4,5]\n",
    "\n",
    "sum(lst)"
   ]
  },
  {
   "cell_type": "code",
   "execution_count": 71,
   "id": "aa2b6aba-ca90-467c-a3d7-aafc95c3bd9f",
   "metadata": {},
   "outputs": [
    {
     "data": {
      "text/plain": [
       "5"
      ]
     },
     "execution_count": 71,
     "metadata": {},
     "output_type": "execute_result"
    }
   ],
   "source": [
    "len(lst)"
   ]
  },
  {
   "cell_type": "code",
   "execution_count": 79,
   "id": "fcddf209-d6bf-45c2-9517-2cfc441ebcaf",
   "metadata": {},
   "outputs": [],
   "source": [
    "lst_avg = lambda lst: sum(lst)/len(lst)"
   ]
  },
  {
   "cell_type": "code",
   "execution_count": 80,
   "id": "dbde2e72-13e3-4367-bc9b-29283def5c5d",
   "metadata": {},
   "outputs": [
    {
     "name": "stdout",
     "output_type": "stream",
     "text": [
      "3.0\n"
     ]
    }
   ],
   "source": [
    "print(lst_avg(num))"
   ]
  },
  {
   "cell_type": "markdown",
   "id": "b3f4735e-41af-4351-aab6-1af49a762a77",
   "metadata": {},
   "source": [
    "#### Map Function"
   ]
  },
  {
   "cell_type": "code",
   "execution_count": 81,
   "id": "06e4c393-3765-4c52-888b-26d1d0c4afda",
   "metadata": {},
   "outputs": [],
   "source": [
    "def square_num(x):\n",
    "    return(x**2)"
   ]
  },
  {
   "cell_type": "code",
   "execution_count": 82,
   "id": "fa31d1fa-3e5b-4957-b326-6b8baee8021f",
   "metadata": {},
   "outputs": [
    {
     "data": {
      "text/plain": [
       "[1, 2, 3, 4, 5]"
      ]
     },
     "execution_count": 82,
     "metadata": {},
     "output_type": "execute_result"
    }
   ],
   "source": [
    "num"
   ]
  },
  {
   "cell_type": "code",
   "execution_count": 85,
   "id": "6d304bd6-6007-49fd-9ffe-75320c22af44",
   "metadata": {},
   "outputs": [
    {
     "data": {
      "text/plain": [
       "[1, 4, 9, 16, 25]"
      ]
     },
     "execution_count": 85,
     "metadata": {},
     "output_type": "execute_result"
    }
   ],
   "source": [
    "list(map(square_num,num))"
   ]
  },
  {
   "cell_type": "code",
   "execution_count": 86,
   "id": "7b7c670f-b8c0-4d56-a198-a9261fced1f7",
   "metadata": {},
   "outputs": [
    {
     "data": {
      "text/plain": [
       "25"
      ]
     },
     "execution_count": 86,
     "metadata": {},
     "output_type": "execute_result"
    }
   ],
   "source": [
    "int('25')"
   ]
  },
  {
   "cell_type": "markdown",
   "id": "61d00eaa-4fb8-4637-b922-ffad40b8d4cc",
   "metadata": {},
   "source": [
    "#### Filter function"
   ]
  },
  {
   "cell_type": "code",
   "execution_count": 87,
   "id": "d98c339f-3c75-42ad-ab65-bb6b4515542b",
   "metadata": {},
   "outputs": [
    {
     "data": {
      "text/plain": [
       "[1, 2, 3, 4, 5]"
      ]
     },
     "execution_count": 87,
     "metadata": {},
     "output_type": "execute_result"
    }
   ],
   "source": [
    "num"
   ]
  },
  {
   "cell_type": "code",
   "execution_count": 88,
   "id": "84108cc3-9487-4ccd-b852-8985fd42a86b",
   "metadata": {},
   "outputs": [
    {
     "data": {
      "text/plain": [
       "[2, 4]"
      ]
     },
     "execution_count": 88,
     "metadata": {},
     "output_type": "execute_result"
    }
   ],
   "source": [
    "list(filter(lambda x:x%2 == 0,num))"
   ]
  },
  {
   "cell_type": "markdown",
   "id": "a4e0173f-8130-4a6f-8942-96cc96bd1b18",
   "metadata": {},
   "source": [
    "#### Reduce"
   ]
  },
  {
   "cell_type": "code",
   "execution_count": 91,
   "id": "bb0d9c72-88d8-4cbc-8993-5c5e6c84af02",
   "metadata": {},
   "outputs": [],
   "source": [
    "from functools import reduce\n",
    "\n",
    "a = reduce(lambda x,y:x+y,num)"
   ]
  },
  {
   "cell_type": "code",
   "execution_count": 92,
   "id": "fbd3c5e2-ebff-4a03-8455-93e8a63ac630",
   "metadata": {},
   "outputs": [
    {
     "data": {
      "text/plain": [
       "15"
      ]
     },
     "execution_count": 92,
     "metadata": {},
     "output_type": "execute_result"
    }
   ],
   "source": [
    "a"
   ]
  },
  {
   "cell_type": "markdown",
   "id": "2b237a73-668e-4cf3-a3f4-206686386438",
   "metadata": {},
   "source": [
    "Scenario: We are developing a program to process online store orders. Each order contains information about the customer, the items purchased and addtional details. You need to create a set of functions to handle different aspects of order processing"
   ]
  },
  {
   "cell_type": "code",
   "execution_count": 103,
   "id": "9696039e-398c-4538-9667-0e0ef2c4a723",
   "metadata": {},
   "outputs": [],
   "source": [
    "def process_customer_info(name,email,**kwargs):\n",
    "    print(f'Processing customer info for {name}')\n",
    "    print(f'Email: {email}')\n",
    "    print('Additional information: ')\n",
    "    \n",
    "    for k,v in kwargs.items():\n",
    "        print(f'{k}:{v}')\n",
    "        \n",
    "def process_order_items(*args):\n",
    "    print('Processing order items: ')\n",
    "    \n",
    "    for item in args:\n",
    "        print(f'{item}')\n",
    "        \n",
    "def calculate_total_amount(*args):\n",
    "    total = 0 \n",
    "    \n",
    "    for arg in args:\n",
    "        if isinstance(arg,(int,float)):\n",
    "            total = total+arg\n",
    "        else:\n",
    "            print(f'Invalid item price: {arg}')\n",
    "    return total\n",
    "\n",
    "#print a receipt \n",
    "\n",
    "def process_order(customer_info,*items, **kwargs):\n",
    "    print(\"Order processing initiated\")\n",
    "    process_customer_info(**customer_info)\n",
    "    process_order_items(*items)\n",
    "    \n",
    "    item_prices = kwargs.get(\"item_prices.\", ()) #give me the item prices\n",
    "    total_amount = calculate_total_amount(*item_prices)\n",
    "    print(f'Total_amount: ${total_amount}')\n",
    "    print('Order process completed')\n",
    "          \n",
    "    print('---Receipt---')\n",
    "    print(f\"Customer: {customer_info['name']}\")\n",
    "    \n",
    "        \n"
   ]
  },
  {
   "cell_type": "code",
   "execution_count": 104,
   "id": "e8edcbea-0629-4b53-9db1-bb48d5638eaf",
   "metadata": {},
   "outputs": [],
   "source": [
    "customer_info = {\n",
    "            \"name\": \"John\",\n",
    "            \"email\": \"john@test.com\",\n",
    "            \"phone\": 123456789\n",
    "}\n",
    "\n",
    "items = (\"Shirt\",\"Jeans\",\"Shoes\")\n",
    "\n",
    "order_details = {\n",
    "\n",
    "    \"address\": \"xyxz\",\n",
    "    \"item_prices\": (15.99,10,20)\n",
    "}"
   ]
  },
  {
   "cell_type": "code",
   "execution_count": 105,
   "id": "9f46bb4a-aa2e-46b2-b8b1-cb6081c3adba",
   "metadata": {},
   "outputs": [
    {
     "name": "stdout",
     "output_type": "stream",
     "text": [
      "Order processing initiated\n",
      "Processing customer info for John\n",
      "Email: john@test.com\n",
      "Additional information: \n",
      "phone:123456789\n",
      "Processing order items: \n",
      "Shirt\n",
      "Jeans\n",
      "Shoes\n",
      "Total_amount: $0\n",
      "Order process completed\n",
      "---Receipt---\n",
      "Customer: John\n"
     ]
    }
   ],
   "source": [
    "process_order(customer_info , *items, **order_details)"
   ]
  },
  {
   "cell_type": "code",
   "execution_count": null,
   "id": "6eac888f-3c3a-4e5d-baac-01d0528f04ef",
   "metadata": {},
   "outputs": [],
   "source": []
  }
 ],
 "metadata": {
  "kernelspec": {
   "display_name": "Python 3 (ipykernel)",
   "language": "python",
   "name": "python3"
  },
  "language_info": {
   "codemirror_mode": {
    "name": "ipython",
    "version": 3
   },
   "file_extension": ".py",
   "mimetype": "text/x-python",
   "name": "python",
   "nbconvert_exporter": "python",
   "pygments_lexer": "ipython3",
   "version": "3.10.8"
  }
 },
 "nbformat": 4,
 "nbformat_minor": 5
}
