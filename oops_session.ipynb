{
 "cells": [
  {
   "cell_type": "code",
   "execution_count": 1,
   "metadata": {
    "id": "YAKSFe7iT-CO"
   },
   "outputs": [],
   "source": [
    "class car():\n",
    "  def __init__(self, make, model, color):\n",
    "    self.banawat = make #make is a instance variable\n",
    "    self.maadel = model\n",
    "    self.rang = color\n",
    "\n",
    "  # def make_of_car(self):\n",
    "  #   print(f'The make of the car is {self.banawat}')\n",
    "\n",
    "\n"
   ]
  },
  {
   "cell_type": "markdown",
   "metadata": {
    "id": "otkRHVN0bMSI"
   },
   "source": [
    "What is a instance variable?\n",
    "\n",
    "A variable that is owned by each object and can be accessed by any client using object.instancevariable"
   ]
  },
  {
   "cell_type": "code",
   "execution_count": 2,
   "metadata": {
    "id": "T8FdzOo5XmxK"
   },
   "outputs": [],
   "source": [
    "car1 = car('sedan','chevy','blue')"
   ]
  },
  {
   "cell_type": "code",
   "execution_count": 3,
   "metadata": {
    "colab": {
     "base_uri": "https://localhost:8080/",
     "height": 171
    },
    "id": "GdoWlQhGXsCZ",
    "outputId": "59a99cad-9c59-4464-a7d5-ae5d3d04c676"
   },
   "outputs": [
    {
     "ename": "AttributeError",
     "evalue": "ignored",
     "output_type": "error",
     "traceback": [
      "\u001b[0;31m---------------------------------------------------------------------------\u001b[0m",
      "\u001b[0;31mAttributeError\u001b[0m                            Traceback (most recent call last)",
      "\u001b[0;32m<ipython-input-3-560253dd7599>\u001b[0m in \u001b[0;36m<cell line: 1>\u001b[0;34m()\u001b[0m\n\u001b[0;32m----> 1\u001b[0;31m \u001b[0mcar1\u001b[0m\u001b[0;34m.\u001b[0m\u001b[0mmake_of_car\u001b[0m\u001b[0;34m(\u001b[0m\u001b[0;34m)\u001b[0m\u001b[0;34m\u001b[0m\u001b[0;34m\u001b[0m\u001b[0m\n\u001b[0m",
      "\u001b[0;31mAttributeError\u001b[0m: 'car' object has no attribute 'make_of_car'"
     ]
    }
   ],
   "source": [
    "car1.make_of_car()"
   ]
  },
  {
   "cell_type": "code",
   "execution_count": 4,
   "metadata": {
    "colab": {
     "base_uri": "https://localhost:8080/",
     "height": 36
    },
    "id": "xL3l9KvYYGcG",
    "outputId": "c4e036aa-4eff-4c19-e6f1-9c09631af416"
   },
   "outputs": [
    {
     "data": {
      "application/vnd.google.colaboratory.intrinsic+json": {
       "type": "string"
      },
      "text/plain": [
       "'blue'"
      ]
     },
     "execution_count": 4,
     "metadata": {},
     "output_type": "execute_result"
    }
   ],
   "source": [
    "car1.rang"
   ]
  },
  {
   "cell_type": "code",
   "execution_count": 5,
   "metadata": {
    "colab": {
     "base_uri": "https://localhost:8080/",
     "height": 36
    },
    "id": "S6S7WnjPaqwT",
    "outputId": "ae9f6619-b7d7-4551-8566-793949857bc8"
   },
   "outputs": [
    {
     "data": {
      "application/vnd.google.colaboratory.intrinsic+json": {
       "type": "string"
      },
      "text/plain": [
       "'sedan'"
      ]
     },
     "execution_count": 5,
     "metadata": {},
     "output_type": "execute_result"
    }
   ],
   "source": [
    "car1.banawat"
   ]
  },
  {
   "cell_type": "code",
   "execution_count": 6,
   "metadata": {
    "colab": {
     "base_uri": "https://localhost:8080/",
     "height": 36
    },
    "id": "H5hsRBGAaumP",
    "outputId": "60611469-5053-4d1d-cac5-c016c48ab444"
   },
   "outputs": [
    {
     "data": {
      "application/vnd.google.colaboratory.intrinsic+json": {
       "type": "string"
      },
      "text/plain": [
       "'chevy'"
      ]
     },
     "execution_count": 6,
     "metadata": {},
     "output_type": "execute_result"
    }
   ],
   "source": [
    "car1.maadel"
   ]
  },
  {
   "cell_type": "markdown",
   "metadata": {
    "id": "jK0cEnlga2ni"
   },
   "source": [
    "#### Build a club app"
   ]
  },
  {
   "cell_type": "code",
   "execution_count": 7,
   "metadata": {
    "id": "9K7Ykn8ofPgl"
   },
   "outputs": [],
   "source": [
    "class Club():\n",
    "  def __init__(self,clubName,maxMembers):\n",
    "    self.clubName = clubName\n",
    "    self.maxMembers = maxMembers\n",
    "    self.membersList = []\n",
    "\n",
    "  def addMember(self,name):\n",
    "    #we have to check if the club has enough space to accomodate new members\n",
    "    if self.maxMembers > len(self.membersList):\n",
    "      self.membersList.append(name)\n",
    "      print('Ok',name,'has been added to the ',self.clubName, 'club')\n",
    "    else:\n",
    "      print('Sorry, we cannot add name', name, 'to', self.clubName, 'club')\n",
    "      print('This club already has the maximum number of ', self.maxMembers, 'members')\n",
    "\n",
    "  def report(self):\n",
    "    print()\n",
    "    print('Here are the', len(self.membersList), 'members of the ', self.clubName, 'club')\n",
    "\n",
    "    for name in self.membersList:\n",
    "      print(' '+name)\n",
    "    print()\n"
   ]
  },
  {
   "cell_type": "code",
   "execution_count": 8,
   "metadata": {
    "id": "cnq_m9C4hoFl"
   },
   "outputs": [],
   "source": [
    "ds_club = Club('data science',5)"
   ]
  },
  {
   "cell_type": "code",
   "execution_count": 9,
   "metadata": {
    "colab": {
     "base_uri": "https://localhost:8080/"
    },
    "id": "1yrnsAIOpG15",
    "outputId": "159df56e-0515-48c6-8846-0b782c5e8961"
   },
   "outputs": [
    {
     "data": {
      "text/plain": [
       "5"
      ]
     },
     "execution_count": 9,
     "metadata": {},
     "output_type": "execute_result"
    }
   ],
   "source": [
    "ds_club.maxMembers"
   ]
  },
  {
   "cell_type": "code",
   "execution_count": 10,
   "metadata": {
    "colab": {
     "base_uri": "https://localhost:8080/"
    },
    "id": "RJ9bQVwLhrgT",
    "outputId": "8dfdab03-1a36-4a1b-c4f6-fcd75b006ba2"
   },
   "outputs": [
    {
     "name": "stdout",
     "output_type": "stream",
     "text": [
      "Ok name1 has been added to the  data science club\n"
     ]
    }
   ],
   "source": [
    "ds_club.addMember('name1')"
   ]
  },
  {
   "cell_type": "code",
   "execution_count": 11,
   "metadata": {
    "colab": {
     "base_uri": "https://localhost:8080/"
    },
    "id": "CTPMI250hrdl",
    "outputId": "ad3009e7-024f-4661-ab43-ecbb921b0459"
   },
   "outputs": [
    {
     "name": "stdout",
     "output_type": "stream",
     "text": [
      "Ok name2 has been added to the  data science club\n"
     ]
    }
   ],
   "source": [
    "ds_club.addMember('name2')"
   ]
  },
  {
   "cell_type": "code",
   "execution_count": 12,
   "metadata": {
    "colab": {
     "base_uri": "https://localhost:8080/"
    },
    "id": "Lsx1FPQuhra1",
    "outputId": "842ab4f3-afaf-4aad-ac2c-7c94c598cbc2"
   },
   "outputs": [
    {
     "name": "stdout",
     "output_type": "stream",
     "text": [
      "Ok name3 has been added to the  data science club\n"
     ]
    }
   ],
   "source": [
    "ds_club.addMember('name3')"
   ]
  },
  {
   "cell_type": "code",
   "execution_count": 13,
   "metadata": {
    "colab": {
     "base_uri": "https://localhost:8080/"
    },
    "id": "N2GFohX5hrX-",
    "outputId": "1a5ba6fc-6c64-4c9a-b9fe-181ca3296d8a"
   },
   "outputs": [
    {
     "name": "stdout",
     "output_type": "stream",
     "text": [
      "Ok name4 has been added to the  data science club\n"
     ]
    }
   ],
   "source": [
    "ds_club.addMember('name4')"
   ]
  },
  {
   "cell_type": "code",
   "execution_count": 14,
   "metadata": {
    "colab": {
     "base_uri": "https://localhost:8080/"
    },
    "id": "mscXEAdahrVE",
    "outputId": "a7614094-881d-4955-94f3-6d232558b933"
   },
   "outputs": [
    {
     "name": "stdout",
     "output_type": "stream",
     "text": [
      "Ok name5 has been added to the  data science club\n"
     ]
    }
   ],
   "source": [
    "ds_club.addMember('name5')"
   ]
  },
  {
   "cell_type": "code",
   "execution_count": 15,
   "metadata": {
    "colab": {
     "base_uri": "https://localhost:8080/"
    },
    "id": "ZVbsWl4NhrSj",
    "outputId": "1d055fd4-0cf7-4825-9571-ee95468df811"
   },
   "outputs": [
    {
     "name": "stdout",
     "output_type": "stream",
     "text": [
      "\n",
      "Here are the 5 members of the  data science club\n",
      " name1\n",
      " name2\n",
      " name3\n",
      " name4\n",
      " name5\n",
      "\n"
     ]
    }
   ],
   "source": [
    "ds_club.report()"
   ]
  },
  {
   "cell_type": "code",
   "execution_count": 16,
   "metadata": {
    "colab": {
     "base_uri": "https://localhost:8080/"
    },
    "id": "-nyBrDCVhrPr",
    "outputId": "f0923975-ee3c-4b27-ed69-b260d276b856"
   },
   "outputs": [
    {
     "name": "stdout",
     "output_type": "stream",
     "text": [
      "Sorry, we cannot add name name6 to data science club\n",
      "This club already has the maximum number of  5 members\n"
     ]
    }
   ],
   "source": [
    "ds_club.addMember('name6')"
   ]
  },
  {
   "cell_type": "code",
   "execution_count": 17,
   "metadata": {
    "id": "xqgUsuCVz_Yy"
   },
   "outputs": [],
   "source": [
    "ds_club.membersList.append('name6')"
   ]
  },
  {
   "cell_type": "code",
   "execution_count": 18,
   "metadata": {
    "colab": {
     "base_uri": "https://localhost:8080/"
    },
    "id": "MxhO7Srp0JDN",
    "outputId": "5ebece52-3d82-4b6e-a61e-5eb49e3eeaee"
   },
   "outputs": [
    {
     "name": "stdout",
     "output_type": "stream",
     "text": [
      "\n",
      "Here are the 6 members of the  data science club\n",
      " name1\n",
      " name2\n",
      " name3\n",
      " name4\n",
      " name5\n",
      " name6\n",
      "\n"
     ]
    }
   ],
   "source": [
    "ds_club.report()"
   ]
  },
  {
   "cell_type": "code",
   "execution_count": 19,
   "metadata": {
    "id": "wbNMhrEQ0V1q"
   },
   "outputs": [],
   "source": [
    "class Club():\n",
    "  def __init__(self,clubName,maxMembers):\n",
    "    self._clubName = clubName\n",
    "    self._maxMembers = maxMembers\n",
    "    self._membersList = []\n",
    "\n",
    "  def addMember(self,name):\n",
    "    #we have to check if the club has enough space to accomodate new members\n",
    "    if self._maxMembers > len(self._membersList):\n",
    "      self._membersList.append(name)\n",
    "      print('Ok',name,'has been added to the ',self._clubName, 'club')\n",
    "    else:\n",
    "      print('Sorry, we cannot add name', name, 'to', self._clubName, 'club')\n",
    "      print('This club already has the maximum number of ', self._maxMembers, 'members')\n",
    "\n",
    "  def report(self):\n",
    "    print()\n",
    "    print('Here are the', len(self.membersList), 'members of the ', self._clubName, 'club')\n",
    "\n",
    "    for name in self.membersList:\n",
    "      print(' '+name)\n",
    "    print()"
   ]
  },
  {
   "cell_type": "code",
   "execution_count": 20,
   "metadata": {
    "id": "IgXAXow90dq-"
   },
   "outputs": [],
   "source": [
    "ml_club = Club('machine_learning',2)"
   ]
  },
  {
   "cell_type": "code",
   "execution_count": 21,
   "metadata": {
    "colab": {
     "base_uri": "https://localhost:8080/"
    },
    "id": "2e20j1Qr0py2",
    "outputId": "7816a60a-e8c5-4065-8893-4cb2303883b6"
   },
   "outputs": [
    {
     "name": "stdout",
     "output_type": "stream",
     "text": [
      "Ok ml_name1 has been added to the  machine_learning club\n",
      "Ok ml_name2 has been added to the  machine_learning club\n",
      "Sorry, we cannot add name ml_name3 to machine_learning club\n",
      "This club already has the maximum number of  2 members\n"
     ]
    }
   ],
   "source": [
    "ml_club.addMember('ml_name1')\n",
    "ml_club.addMember('ml_name2')\n",
    "ml_club.addMember('ml_name3')"
   ]
  },
  {
   "cell_type": "code",
   "execution_count": 22,
   "metadata": {
    "id": "D5qCJJ6ihrD-"
   },
   "outputs": [],
   "source": [
    "ops_club = Club('operations',4)"
   ]
  },
  {
   "cell_type": "code",
   "execution_count": 23,
   "metadata": {
    "colab": {
     "base_uri": "https://localhost:8080/"
    },
    "id": "wz2doYOnhrAt",
    "outputId": "ed463ee3-983a-41e7-f41c-ceb7c737d1a8"
   },
   "outputs": [
    {
     "name": "stdout",
     "output_type": "stream",
     "text": [
      "Ok name10 has been added to the  operations club\n"
     ]
    }
   ],
   "source": [
    "ops_club.addMember('name10')"
   ]
  },
  {
   "cell_type": "code",
   "execution_count": 24,
   "metadata": {
    "colab": {
     "base_uri": "https://localhost:8080/",
     "height": 171
    },
    "id": "qOxzf4lbonfD",
    "outputId": "7d0cf888-fd7c-4fc3-be4d-08d699e16dfc"
   },
   "outputs": [
    {
     "ename": "TypeError",
     "evalue": "ignored",
     "output_type": "error",
     "traceback": [
      "\u001b[0;31m---------------------------------------------------------------------------\u001b[0m",
      "\u001b[0;31mTypeError\u001b[0m                                 Traceback (most recent call last)",
      "\u001b[0;32m<ipython-input-24-afad2bc7891d>\u001b[0m in \u001b[0;36m<cell line: 1>\u001b[0;34m()\u001b[0m\n\u001b[0;32m----> 1\u001b[0;31m \u001b[0mops_club\u001b[0m\u001b[0;34m.\u001b[0m\u001b[0m_maxMembers\u001b[0m\u001b[0;34m(\u001b[0m\u001b[0;34m)\u001b[0m\u001b[0;34m\u001b[0m\u001b[0;34m\u001b[0m\u001b[0m\n\u001b[0m",
      "\u001b[0;31mTypeError\u001b[0m: 'int' object is not callable"
     ]
    }
   ],
   "source": [
    "ops_club._maxMembers()"
   ]
  },
  {
   "cell_type": "markdown",
   "metadata": {
    "id": "ySD_JsLponcU"
   },
   "source": [
    "##### More Explicitly private"
   ]
  },
  {
   "cell_type": "markdown",
   "metadata": {
    "id": "2Pj1C4foFbuL"
   },
   "source": [
    "This disallows client software from directly accessing our data"
   ]
  },
  {
   "cell_type": "code",
   "execution_count": 26,
   "metadata": {
    "id": "k8PahqAmonZs"
   },
   "outputs": [],
   "source": [
    "class PrivatePerson():\n",
    "\n",
    "  def __init__(self,name,privateData):\n",
    "    self.name = name\n",
    "    self.__privateData = privateData\n",
    "\n",
    "  def getName(self):\n",
    "    return self.name\n",
    "\n",
    "  def setName(self,name):\n",
    "    self.name = name"
   ]
  },
  {
   "cell_type": "code",
   "execution_count": 27,
   "metadata": {
    "id": "7wpr8_XionXI"
   },
   "outputs": [],
   "source": [
    "users_pd = PrivatePerson('john',123455)"
   ]
  },
  {
   "cell_type": "code",
   "execution_count": 28,
   "metadata": {
    "colab": {
     "base_uri": "https://localhost:8080/",
     "height": 171
    },
    "id": "Z41BdO_EonUy",
    "outputId": "be7998c9-b23f-4f6b-92b7-e433120973bd"
   },
   "outputs": [
    {
     "ename": "AttributeError",
     "evalue": "ignored",
     "output_type": "error",
     "traceback": [
      "\u001b[0;31m---------------------------------------------------------------------------\u001b[0m",
      "\u001b[0;31mAttributeError\u001b[0m                            Traceback (most recent call last)",
      "\u001b[0;32m<ipython-input-28-4e3a271d6b76>\u001b[0m in \u001b[0;36m<cell line: 1>\u001b[0;34m()\u001b[0m\n\u001b[0;32m----> 1\u001b[0;31m \u001b[0musers_pd\u001b[0m\u001b[0;34m.\u001b[0m\u001b[0m__privateData\u001b[0m\u001b[0;34m\u001b[0m\u001b[0;34m\u001b[0m\u001b[0m\n\u001b[0m",
      "\u001b[0;31mAttributeError\u001b[0m: 'PrivatePerson' object has no attribute '__privateData'"
     ]
    }
   ],
   "source": [
    "users_pd.__privateData"
   ]
  },
  {
   "cell_type": "code",
   "execution_count": 30,
   "metadata": {
    "colab": {
     "base_uri": "https://localhost:8080/",
     "height": 36
    },
    "id": "DTLOxza4onSE",
    "outputId": "19f33e33-f03e-4f7c-9ba8-ce070741b44f"
   },
   "outputs": [
    {
     "data": {
      "application/vnd.google.colaboratory.intrinsic+json": {
       "type": "string"
      },
      "text/plain": [
       "'john'"
      ]
     },
     "execution_count": 30,
     "metadata": {},
     "output_type": "execute_result"
    }
   ],
   "source": [
    "users_pd.getName()"
   ]
  },
  {
   "cell_type": "code",
   "execution_count": 31,
   "metadata": {
    "id": "jI-Etc5BonPN"
   },
   "outputs": [],
   "source": [
    "users_pd.setName('ron')"
   ]
  },
  {
   "cell_type": "markdown",
   "metadata": {
    "id": "TuuNUJLVbYfJ"
   },
   "source": [
    "#### Inheritance"
   ]
  },
  {
   "cell_type": "markdown",
   "metadata": {
    "id": "SwO2T7DgcoQ2"
   },
   "source": [
    "Creating a new class from an existing class"
   ]
  },
  {
   "cell_type": "code",
   "execution_count": 32,
   "metadata": {
    "colab": {
     "base_uri": "https://localhost:8080/"
    },
    "id": "aAXXYpwAdBZe",
    "outputId": "b1368d13-471d-4a3b-ee00-6fd9d86af301"
   },
   "outputs": [
    {
     "name": "stdout",
     "output_type": "stream",
     "text": [
      "Simba is eating.\n",
      "Simba is sleeping.\n",
      "Simba is roaring!\n",
      "George is eating.\n",
      "George is sleeping.\n",
      "George is climbing!\n"
     ]
    }
   ],
   "source": [
    "# Start with a base class Animal that defines properties and behaviors common to all animals.\n",
    "class Animal:\n",
    "    def __init__(self, name, age):\n",
    "        self.name = name\n",
    "        self.age = age\n",
    "\n",
    "    def eat(self):\n",
    "        print(f\"{self.name} is eating.\")\n",
    "\n",
    "    def sleep(self):\n",
    "        print(f\"{self.name} is sleeping.\")\n",
    "\n",
    "# Define a Lion class that inherits from Animal and adds a unique behavior.\n",
    "class Lion(Animal):\n",
    "    def roar(self):\n",
    "        print(f\"{self.name} is roaring!\")\n",
    "\n",
    "# Define a Monkey class that inherits from Animal and adds a unique behavior.\n",
    "class Monkey(Animal):\n",
    "    def climb(self):\n",
    "        print(f\"{self.name} is climbing!\")\n",
    "\n",
    "# Now you can create instances of Lion and Monkey, and they will have both the common behaviors from Animal and their unique behaviors.\n",
    "simba = Lion(\"Simba\", 5)\n",
    "simba.eat()\n",
    "simba.sleep()\n",
    "simba.roar()\n",
    "\n",
    "george = Monkey(\"George\", 3)\n",
    "george.eat()\n",
    "george.sleep()\n",
    "george.climb()\n"
   ]
  },
  {
   "cell_type": "code",
   "execution_count": 33,
   "metadata": {
    "colab": {
     "base_uri": "https://localhost:8080/"
    },
    "id": "rsWU9QN1bbAk",
    "outputId": "0143f747-c759-401a-dd0c-0868661e8cae"
   },
   "outputs": [
    {
     "name": "stdout",
     "output_type": "stream",
     "text": [
      "Savings account balance: 1025.0\n",
      "Current account balance: -300\n"
     ]
    }
   ],
   "source": [
    "class BankAccount:\n",
    "    def __init__(self, account_number, account_holder):\n",
    "        self.account_number = account_number\n",
    "        self.account_holder = account_holder\n",
    "        self.balance = 0\n",
    "\n",
    "    def deposit(self, amount):\n",
    "        self.balance += amount\n",
    "        return self.balance\n",
    "\n",
    "    def withdraw(self, amount):\n",
    "        if amount > self.balance:\n",
    "            print(\"Insufficient balance\")\n",
    "        else:\n",
    "            self.balance -= amount\n",
    "        return self.balance\n",
    "\n",
    "    def get_balance(self):\n",
    "        return self.balance\n",
    "\n",
    "\n",
    "class SavingsAccount(BankAccount):\n",
    "    def __init__(self, account_number, account_holder, interest_rate):\n",
    "        super().__init__(account_number, account_holder)\n",
    "        self.interest_rate = interest_rate\n",
    "\n",
    "    def add_interest(self):\n",
    "        interest = self.balance * self.interest_rate / 100\n",
    "        self.balance += interest\n",
    "        return self.balance\n",
    "\n",
    "\n",
    "class CurrentAccount(BankAccount):\n",
    "    def __init__(self, account_number, account_holder, overdraft_limit):\n",
    "        super().__init__(account_number, account_holder)\n",
    "        self.overdraft_limit = overdraft_limit\n",
    "\n",
    "    def withdraw(self, amount):\n",
    "        if amount > self.balance + self.overdraft_limit:\n",
    "            print(\"Overdraft limit exceeded\")\n",
    "        else:\n",
    "            self.balance -= amount\n",
    "        return self.balance\n",
    "\n",
    "\n",
    "# Test the SavingsAccount class\n",
    "savings_account = SavingsAccount('123456', 'John Doe', 2.5)\n",
    "savings_account.deposit(1000)\n",
    "savings_account.add_interest()\n",
    "print(f\"Savings account balance: {savings_account.get_balance()}\")\n",
    "\n",
    "# Test the CurrentAccount class\n",
    "current_account = CurrentAccount('654321', 'Jane Doe', 500)\n",
    "current_account.deposit(500)\n",
    "current_account.withdraw(800)\n",
    "print(f\"Current account balance: {current_account.get_balance()}\")\n"
   ]
  },
  {
   "cell_type": "code",
   "execution_count": null,
   "metadata": {
    "id": "ywjgbaYNL20d"
   },
   "outputs": [],
   "source": []
  },
  {
   "cell_type": "markdown",
   "metadata": {
    "id": "ao84YyZoonMu"
   },
   "source": [
    "#### Decorators"
   ]
  },
  {
   "cell_type": "markdown",
   "metadata": {
    "id": "kvUL8-mxonJ0"
   },
   "source": [
    "A decorator is a method that takes another method as an argument and extends the way the orginal method works\n",
    "\n",
    "* decorators are always placed on top of methods"
   ]
  },
  {
   "cell_type": "code",
   "execution_count": null,
   "metadata": {
    "colab": {
     "base_uri": "https://localhost:8080/"
    },
    "id": "IywbGgVEfcRW",
    "outputId": "7bc2684c-a765-4ee3-dedb-551ec1f9442d"
   },
   "outputs": [
    {
     "name": "stdout",
     "output_type": "stream",
     "text": [
      "Something is happening before the function is called.\n",
      "Hello!\n",
      "Something is happening after the function is called.\n"
     ]
    }
   ],
   "source": [
    "def my_decorator(func):\n",
    "    def wrapper():\n",
    "        print(\"Something is happening before the function is called.\")\n",
    "        func()\n",
    "        print(\"Something is happening after the function is called.\")\n",
    "    return wrapper\n",
    "\n",
    "@my_decorator\n",
    "def say_hello():\n",
    "    print(\"Hello!\")\n",
    "\n",
    "say_hello()\n"
   ]
  },
  {
   "cell_type": "code",
   "execution_count": null,
   "metadata": {
    "colab": {
     "base_uri": "https://localhost:8080/"
    },
    "id": "ATeXX5WffdFW",
    "outputId": "fac37392-d15d-44c3-8896-6b32f66ef69a"
   },
   "outputs": [
    {
     "name": "stdout",
     "output_type": "stream",
     "text": [
      "You've successfully borrowed '1984'. Please return it within 30 days.\n",
      "Sorry, the book '1984' is currently unavailable.\n"
     ]
    }
   ],
   "source": [
    "def check_availability(func):\n",
    "    def wrapper(book):\n",
    "        if book['available']:\n",
    "            func(book)\n",
    "        else:\n",
    "            print(f\"Sorry, the book '{book['title']}' is currently unavailable.\")\n",
    "    return wrapper\n",
    "\n",
    "@check_availability\n",
    "def borrow_book(book):\n",
    "    print(f\"You've successfully borrowed '{book['title']}'. Please return it within 30 days.\")\n",
    "    book['available'] = False\n",
    "\n",
    "# Let's assume we have this book in our library\n",
    "book = {\n",
    "    'title': '1984',\n",
    "    'author': 'George Orwell',\n",
    "    'available': True\n",
    "}\n",
    "\n",
    "borrow_book(book)\n",
    "\n",
    "# Now if we try to borrow the book again, it should be unavailable\n",
    "borrow_book(book)\n"
   ]
  },
  {
   "cell_type": "markdown",
   "metadata": {
    "id": "3O7SxjFTEXtF"
   },
   "source": [
    "#### Static Methods"
   ]
  },
  {
   "cell_type": "markdown",
   "metadata": {
    "id": "Tyg4P7REL-0P"
   },
   "source": [
    "These are methods that are bound to the class and not the instance of the class. They can't access or modify class state."
   ]
  },
  {
   "cell_type": "code",
   "execution_count": null,
   "metadata": {
    "colab": {
     "base_uri": "https://localhost:8080/"
    },
    "id": "h9vy63DyEXi1",
    "outputId": "01bb6d20-4e13-42c5-8755-7384af5a6e9e"
   },
   "outputs": [
    {
     "name": "stdout",
     "output_type": "stream",
     "text": [
      "Student: John Doe, Average Grade: 86.6\n"
     ]
    }
   ],
   "source": [
    "class Student:\n",
    "    def __init__(self, name, grades):\n",
    "        self.name = name\n",
    "        self.grades = grades\n",
    "\n",
    "    @staticmethod\n",
    "    def calculate_average(grades):\n",
    "        return sum(grades) / len(grades)\n",
    "\n",
    "    def print_student_info(self):\n",
    "        average = self.calculate_average(self.grades)\n",
    "        print(f\"Student: {self.name}, Average Grade: {average}\")\n",
    "\n",
    "# Create a Student instance\n",
    "student = Student(\"John Doe\", [85, 90, 78, 92, 88])\n",
    "\n",
    "# Print student info\n",
    "student.print_student_info()  # Outputs: Student: John Doe, Average Grade: 86.6\n"
   ]
  },
  {
   "cell_type": "markdown",
   "metadata": {
    "id": "myWGIBpZonHH"
   },
   "source": [
    "#### Class Methods\n",
    "\n",
    "A class method in Python is a method that's bound to the class and not the instance of the class. It can modify a class state that would apply across all instances of the class. Class methods are marked with a @classmethod decorator."
   ]
  },
  {
   "cell_type": "code",
   "execution_count": 34,
   "metadata": {
    "id": "WzNEbx7wonEh"
   },
   "outputs": [],
   "source": [
    "class Employee:\n",
    "    raise_amount = 1.04\n",
    "\n",
    "    def __init__(self, first, last, pay):\n",
    "        self.first = first\n",
    "        self.last = last\n",
    "        self.pay = pay\n",
    "\n",
    "    def apply_raise(self):\n",
    "        self.pay = int(self.pay * self.raise_amount)\n",
    "\n",
    "    @classmethod\n",
    "    def set_raise_amount(cls, amount):\n",
    "        cls.raise_amount = amount\n"
   ]
  },
  {
   "cell_type": "code",
   "execution_count": 35,
   "metadata": {
    "colab": {
     "base_uri": "https://localhost:8080/"
    },
    "id": "Olq-7XdhonB2",
    "outputId": "bd1bdeed-6401-4bd3-9ea1-da1a25a7ecaf"
   },
   "outputs": [
    {
     "name": "stdout",
     "output_type": "stream",
     "text": [
      "52500\n",
      "63000\n"
     ]
    }
   ],
   "source": [
    "emp1 = Employee('John', 'Doe', 50000)\n",
    "emp2 = Employee('Jane', 'Doe', 60000)\n",
    "\n",
    "# Use the class method to change the raise amount\n",
    "Employee.set_raise_amount(1.05)\n",
    "\n",
    "# This raise amount will apply to all employees\n",
    "emp1.apply_raise()\n",
    "emp2.apply_raise()\n",
    "\n",
    "print(emp1.pay)  # 52500\n",
    "print(emp2.pay)  # 63000\n"
   ]
  },
  {
   "cell_type": "markdown",
   "metadata": {
    "id": "XH2WYNFC3KHx"
   },
   "source": [
    "###### Retail example"
   ]
  },
  {
   "cell_type": "code",
   "execution_count": 36,
   "metadata": {
    "id": "TeSx6eSvom-v"
   },
   "outputs": [],
   "source": [
    "class Product:\n",
    "    discount = 0.0  # class variable that applies to all products\n",
    "\n",
    "    def __init__(self, name, price):\n",
    "        self.name = name\n",
    "        self.price = price\n",
    "\n",
    "    @classmethod\n",
    "    def set_discount(cls, discount):\n",
    "        cls.discount = discount\n",
    "\n",
    "    def calculate_discounted_price(self):\n",
    "        return self.price * (1 - self.discount)\n"
   ]
  },
  {
   "cell_type": "code",
   "execution_count": 37,
   "metadata": {
    "colab": {
     "base_uri": "https://localhost:8080/"
    },
    "id": "_ep-CA1Uom6p",
    "outputId": "dc0cfb58-8c3c-4197-9591-a3b430bcaa10"
   },
   "outputs": [
    {
     "name": "stdout",
     "output_type": "stream",
     "text": [
      "0.8\n",
      "0.4\n"
     ]
    }
   ],
   "source": [
    "p1 = Product('Apple', 1.00)\n",
    "p2 = Product('Banana', 0.50)\n",
    "\n",
    "# Use the class method to set the discount for all products\n",
    "Product.set_discount(0.20)\n",
    "\n",
    "print(p1.calculate_discounted_price())  # 0.80\n",
    "print(p2.calculate_discounted_price())  # 0.40\n"
   ]
  },
  {
   "cell_type": "markdown",
   "metadata": {
    "id": "57fkhUJQom2B"
   },
   "source": [
    "###### student University example"
   ]
  },
  {
   "cell_type": "code",
   "execution_count": 38,
   "metadata": {
    "id": "U_6W7GWq3c4X"
   },
   "outputs": [],
   "source": [
    "class Student:\n",
    "    university_name = 'Awesome University'  # class variable that applies to all students\n",
    "\n",
    "    def __init__(self, name, year):\n",
    "        self.name = name\n",
    "        self.year = year\n",
    "\n",
    "    @classmethod\n",
    "    def change_university_name(cls, new_name):\n",
    "        cls.university_name = new_name\n"
   ]
  },
  {
   "cell_type": "code",
   "execution_count": 39,
   "metadata": {
    "colab": {
     "base_uri": "https://localhost:8080/"
    },
    "id": "ggYeIBaB3dZ4",
    "outputId": "00df3f7c-f850-4800-d88b-a468cd70c6c4"
   },
   "outputs": [
    {
     "name": "stdout",
     "output_type": "stream",
     "text": [
      "Awesome University\n",
      "Awesome University\n",
      "Even More Awesome University\n",
      "Even More Awesome University\n"
     ]
    }
   ],
   "source": [
    "s1 = Student('Alice', 2023)\n",
    "s2 = Student('Bob', 2024)\n",
    "\n",
    "print(s1.university_name)  # 'Awesome University'\n",
    "print(s2.university_name)  # 'Awesome University'\n",
    "\n",
    "# Use the class method to change the university name for all students\n",
    "Student.change_university_name('Even More Awesome University')\n",
    "\n",
    "print(s1.university_name)  # 'Even More Awesome University'\n",
    "print(s2.university_name)  # 'Even More Awesome University'\n"
   ]
  },
  {
   "cell_type": "markdown",
   "metadata": {
    "id": "QXSA6p-u3h7S"
   },
   "source": [
    "###### without class variable"
   ]
  },
  {
   "cell_type": "code",
   "execution_count": 40,
   "metadata": {
    "id": "63seEx0P3-L2"
   },
   "outputs": [],
   "source": [
    "class Book:\n",
    "    def __init__(self, title, author, pages):\n",
    "        self.title = title\n",
    "        self.author = author\n",
    "        self.pages = pages\n",
    "\n",
    "    @classmethod\n",
    "    def from_string(cls, book_str):\n",
    "        title, author, pages = book_str.split('-')\n",
    "        return cls(title, author, int(pages))\n",
    "\n",
    "    def __str__(self):\n",
    "        return f\"{self.title} by {self.author}, {self.pages} pages\"\n"
   ]
  },
  {
   "cell_type": "code",
   "execution_count": 41,
   "metadata": {
    "colab": {
     "base_uri": "https://localhost:8080/"
    },
    "id": "wV43breR3_Qm",
    "outputId": "ad3a8f33-63c1-4c91-c598-e2da3f780606"
   },
   "outputs": [
    {
     "name": "stdout",
     "output_type": "stream",
     "text": [
      "The Great Gatsby by F. Scott Fitzgerald, 180 pages\n"
     ]
    }
   ],
   "source": [
    "book_str = \"The Great Gatsby-F. Scott Fitzgerald-180\"\n",
    "book = Book.from_string(book_str)\n",
    "\n",
    "print(book)  # \"The Great Gatsby by F. Scott Fitzgerald, 180 pages\""
   ]
  },
  {
   "cell_type": "code",
   "execution_count": 55,
   "metadata": {
    "colab": {
     "base_uri": "https://localhost:8080/"
    },
    "id": "rHP0DQGDLJBX",
    "outputId": "0bff8b2f-ae36-4e56-a50c-1d8b65c269dd"
   },
   "outputs": [
    {
     "name": "stdout",
     "output_type": "stream",
     "text": [
      "John Doe\n",
      "45\n",
      "Diabetes\n"
     ]
    }
   ],
   "source": [
    "class Patient:\n",
    "    def __init__(self, name, age, disease):\n",
    "        self.name = name\n",
    "        self.age = age\n",
    "        self.disease = disease\n",
    "\n",
    "    @classmethod\n",
    "    def from_string(cls, patient_data_string):\n",
    "        name, age, disease = patient_data_string.split(\",\")\n",
    "        return cls(name, int(age), disease)\n",
    "\n",
    "raw_data = \"John Doe,45,Diabetes\"\n",
    "\n",
    "# Use the class method to process the raw data and create a Patient instance\n",
    "patient = Patient.from_string(raw_data)\n",
    "\n",
    "print(patient.name)  # Outputs: John Doe\n",
    "print(patient.age)  # Outputs: 45\n",
    "print(patient.disease)  # Outputs: Diabetes\n"
   ]
  },
  {
   "cell_type": "markdown",
   "metadata": {
    "id": "o2aw2W6VV4fZ"
   },
   "source": [
    "#### Abstraction"
   ]
  },
  {
   "cell_type": "markdown",
   "metadata": {
    "id": "KzHyw0KQWBkw"
   },
   "source": [
    "Handling complexity by hiding unnecessary details.\n",
    "\n",
    "* abstraction is about the client's view of a class\n",
    "*"
   ]
  },
  {
   "cell_type": "code",
   "execution_count": 42,
   "metadata": {
    "colab": {
     "base_uri": "https://localhost:8080/"
    },
    "id": "-d6vgyHsacuA",
    "outputId": "d1e2ae55-d686-42b9-c840-b2acd8234cc9"
   },
   "outputs": [
    {
     "name": "stdout",
     "output_type": "stream",
     "text": [
      "We are inside test_class task\n",
      "Passed value:  100\n",
      "We are inside example_class task\n",
      "Passed value:  200\n",
      "test_obj is instance of Absclass?  True\n",
      "example_obj is instance of Absclass?  True\n"
     ]
    }
   ],
   "source": [
    "from abc import ABC, abstractmethod\n",
    "\n",
    "class Absclass(ABC):\n",
    "    def print(self, x):\n",
    "        print(\"Passed value: \", x)\n",
    "\n",
    "    @abstractmethod\n",
    "    def task(self):\n",
    "        print(\"We are inside Absclass task\")\n",
    "\n",
    "class test_class(Absclass):\n",
    "    def task(self):\n",
    "        print(\"We are inside test_class task\")\n",
    "\n",
    "class example_class(Absclass):\n",
    "    def task(self):\n",
    "        print(\"We are inside example_class task\")\n",
    "\n",
    "# Create objects of test_class and example_class\n",
    "test_obj = test_class()\n",
    "test_obj.task()\n",
    "test_obj.print(100)\n",
    "\n",
    "example_obj = example_class()\n",
    "example_obj.task()\n",
    "example_obj.print(200)\n",
    "\n",
    "print(\"test_obj is instance of Absclass? \", isinstance(test_obj, Absclass))\n",
    "print(\"example_obj is instance of Absclass? \", isinstance(example_obj, Absclass))\n"
   ]
  },
  {
   "cell_type": "markdown",
   "metadata": {
    "id": "hXslqV3Y4Cvr"
   },
   "source": [
    "#### Polymorphism"
   ]
  },
  {
   "cell_type": "markdown",
   "metadata": {
    "id": "zOX6UH-A69It"
   },
   "source": [
    "PM refers to the ability of different data types (or objects) to be manipulated with the same interface — that is, with the same method or operator.\n",
    "\n",
    "There are 2 types:\n",
    "\n",
    "1. Compile time or static\n",
    "2. Run time or dynamic\n",
    "\n",
    "It talks about how multiple classes can have methods that have exactly same names."
   ]
  },
  {
   "cell_type": "code",
   "execution_count": 43,
   "metadata": {
    "id": "fyCPGeVv7QS3"
   },
   "outputs": [],
   "source": [
    "class Dog:\n",
    "  def __init__(self,name):\n",
    "    self.name = name\n",
    "\n",
    "  def sound(self):\n",
    "    print(self.name,\" says woof woof woof\")\n",
    "\n",
    "class Cat:\n",
    "  def __init__(self,name):\n",
    "    self.name = name\n",
    "\n",
    "  def sound(self):\n",
    "    print(self.name, \" says meow meow meow\")\n",
    "\n",
    "class Bird():\n",
    "  def __init__(self,name):\n",
    "    self.name = name\n",
    "  def sound(self):\n",
    "    print(self.name, \" says tweet\")"
   ]
  },
  {
   "cell_type": "code",
   "execution_count": 44,
   "metadata": {
    "id": "uNJMrYHTJh2q"
   },
   "outputs": [],
   "source": [
    "dog1 = Dog('tim')\n",
    "dog2 = Dog('jim')\n",
    "cat1 = Cat('kitty')\n",
    "cat2 = Cat('fluffy')\n",
    "bird1 = Bird('angry')\n",
    "bird2 = Bird('fun')"
   ]
  },
  {
   "cell_type": "code",
   "execution_count": 45,
   "metadata": {
    "id": "ArVQN1ePJt0-"
   },
   "outputs": [],
   "source": [
    "animals = [dog1,dog2,cat1,cat2,bird1,bird2]"
   ]
  },
  {
   "cell_type": "code",
   "execution_count": 46,
   "metadata": {
    "colab": {
     "base_uri": "https://localhost:8080/"
    },
    "id": "DNQZLZiiKD2Q",
    "outputId": "6ad36009-44bf-4027-bc36-b707df1de114"
   },
   "outputs": [
    {
     "name": "stdout",
     "output_type": "stream",
     "text": [
      "tim  says woof woof woof\n",
      "jim  says woof woof woof\n",
      "kitty  says meow meow meow\n",
      "fluffy  says meow meow meow\n",
      "angry  says tweet\n",
      "fun  says tweet\n"
     ]
    }
   ],
   "source": [
    "for animal in animals:\n",
    "  animal.sound()"
   ]
  },
  {
   "cell_type": "code",
   "execution_count": 47,
   "metadata": {
    "colab": {
     "base_uri": "https://localhost:8080/"
    },
    "id": "ON5-uJSeTzTl",
    "outputId": "d752282f-5cc9-42d6-97c3-fa833969b5e4"
   },
   "outputs": [
    {
     "name": "stdout",
     "output_type": "stream",
     "text": [
      "The area of the Circle is: 314.1592653589793\n",
      "The area of the Rectangle is: 30\n",
      "The area of the Square is: 16\n",
      "The area of the Triangle is: 10.5\n"
     ]
    }
   ],
   "source": [
    "from math import pi, sqrt\n",
    "\n",
    "class Shape:\n",
    "    def __init__(self, name):\n",
    "        self.name = name\n",
    "\n",
    "    def area(self):\n",
    "        pass\n",
    "\n",
    "class Circle(Shape):\n",
    "    def __init__(self, radius):\n",
    "        super().__init__(\"Circle\")\n",
    "        self.radius = radius\n",
    "\n",
    "    def area(self):\n",
    "        return pi * self.radius ** 2\n",
    "\n",
    "class Rectangle(Shape):\n",
    "    def __init__(self, height, width):\n",
    "        super().__init__(\"Rectangle\")\n",
    "        self.height = height\n",
    "        self.width = width\n",
    "\n",
    "    def area(self):\n",
    "        return self.height * self.width\n",
    "\n",
    "class Square(Shape):\n",
    "    def __init__(self, side_length):\n",
    "        super().__init__(\"Square\")\n",
    "        self.side_length = side_length\n",
    "\n",
    "    def area(self):\n",
    "        return self.side_length ** 2\n",
    "\n",
    "class Triangle(Shape):\n",
    "    def __init__(self, base, height):\n",
    "        super().__init__(\"Triangle\")\n",
    "        self.base = base\n",
    "        self.height = height\n",
    "\n",
    "    def area(self):\n",
    "        return 0.5 * self.base * self.height\n",
    "\n",
    "# Creating objects of different shapes\n",
    "shapes = [Circle(10), Rectangle(5, 6), Square(4), Triangle(3, 7)]\n",
    "\n",
    "for shape in shapes:\n",
    "    print(f\"The area of the {shape.name} is: {shape.area()}\")\n"
   ]
  },
  {
   "cell_type": "markdown",
   "metadata": {
    "id": "_l5wxR7kKIx0"
   },
   "source": [
    "#### super() function"
   ]
  },
  {
   "cell_type": "code",
   "execution_count": 48,
   "metadata": {
    "id": "oa0Z0QreMwDl"
   },
   "outputs": [],
   "source": [
    "class Animal:\n",
    "    def __init__(self, name):\n",
    "        self.name = name\n",
    "\n",
    "class Dog(Animal):\n",
    "    def __init__(self, name, breed):\n",
    "        super().__init__(name)\n",
    "        self.breed = breed\n"
   ]
  },
  {
   "cell_type": "code",
   "execution_count": 49,
   "metadata": {
    "id": "rADjGjFeMwzK"
   },
   "outputs": [],
   "source": [
    "class Employee:\n",
    "    def __init__(self, name, salary):\n",
    "        self.name = name\n",
    "        self.salary = salary\n",
    "\n",
    "    def work(self):\n",
    "        return f\"{self.name} does work.\"\n",
    "\n",
    "class Manager(Employee):\n",
    "    def __init__(self, name, salary, department):\n",
    "        super().__init__(name, salary)\n",
    "        self.department = department\n",
    "\n",
    "    def work(self):\n",
    "        return f\"{self.name} manages the {self.department} department.\"\n",
    "\n",
    "    def give_raise(self, employee, raise_amount):\n",
    "        employee.salary += raise_amount\n",
    "        return f\"{employee.name}'s salary has been increased to {employee.salary}.\"\n"
   ]
  },
  {
   "cell_type": "markdown",
   "metadata": {
    "id": "DjOUbYzIM6Mt"
   },
   "source": [
    "#### Dunder/Magic Methods"
   ]
  },
  {
   "cell_type": "code",
   "execution_count": 50,
   "metadata": {
    "colab": {
     "base_uri": "https://localhost:8080/"
    },
    "id": "wHZ48smueMQx",
    "outputId": "fda2da20-a42d-4f4d-ac9a-94c23259e32c"
   },
   "outputs": [
    {
     "name": "stdout",
     "output_type": "stream",
     "text": [
      "'1984' by George Orwell, 328 pages\n"
     ]
    }
   ],
   "source": [
    "class Book:\n",
    "    def __init__(self, title, author, pages):\n",
    "        self.title = title\n",
    "        self.author = author\n",
    "        self.pages = pages\n",
    "\n",
    "    def __str__(self):\n",
    "        return f\"'{self.title}' by {self.author}, {self.pages} pages\"\n",
    "\n",
    "# Now let's create a book object and print it\n",
    "book = Book(\"1984\", \"George Orwell\", 328)\n",
    "print(book)  # Prints: '1984' by George Orwell, 328 pages\n"
   ]
  },
  {
   "cell_type": "markdown",
   "metadata": {
    "id": "6f_9a2UahrG8"
   },
   "source": [
    "**Getter** : A method that retrieves data from an object instantiated from a class\n",
    "\n",
    "**Setter** : A method that assigns data into an object instantiated from a class."
   ]
  },
  {
   "cell_type": "code",
   "execution_count": 51,
   "metadata": {
    "colab": {
     "base_uri": "https://localhost:8080/"
    },
    "id": "pL4NJOhNe2_L",
    "outputId": "9ad80d15-899b-456a-b6a8-22ede8fe057a"
   },
   "outputs": [
    {
     "name": "stdout",
     "output_type": "stream",
     "text": [
      "John\n",
      "5000\n",
      "Jane\n",
      "6000\n"
     ]
    }
   ],
   "source": [
    "class Employee:\n",
    "    def __init__(self, name, salary=0):\n",
    "        self._name = name  # _name is a private attribute\n",
    "        self._salary = salary  # _salary is a private attribute\n",
    "\n",
    "    # Getter for name\n",
    "    @property\n",
    "    def name(self):\n",
    "        return self._name\n",
    "\n",
    "    # Setter for name\n",
    "    @name.setter\n",
    "    def name(self, value):\n",
    "        if not isinstance(value, str):\n",
    "            raise TypeError(\"Name must be a string.\")\n",
    "        self._name = value\n",
    "\n",
    "    # Getter for salary\n",
    "    @property\n",
    "    def salary(self):\n",
    "        return self._salary\n",
    "\n",
    "    # Setter for salary\n",
    "    @salary.setter\n",
    "    def salary(self, value):\n",
    "        if value < 0:\n",
    "            raise ValueError(\"Salary cannot be negative.\")\n",
    "        self._salary = value\n",
    "\n",
    "# Creating an object of the Employee class\n",
    "emp = Employee(\"John\", 5000)\n",
    "\n",
    "print(emp.name)  # John\n",
    "print(emp.salary)  # 5000\n",
    "\n",
    "emp.name = \"Jane\"\n",
    "emp.salary = 6000\n",
    "\n",
    "print(emp.name)  # Jane\n",
    "print(emp.salary)  # 6000\n"
   ]
  },
  {
   "cell_type": "code",
   "execution_count": null,
   "metadata": {
    "id": "w3G4ozp4Ea6B"
   },
   "outputs": [],
   "source": []
  }
 ],
 "metadata": {
  "colab": {
   "provenance": []
  },
  "kernelspec": {
   "display_name": "Python 3 (ipykernel)",
   "language": "python",
   "name": "python3"
  },
  "language_info": {
   "codemirror_mode": {
    "name": "ipython",
    "version": 3
   },
   "file_extension": ".py",
   "mimetype": "text/x-python",
   "name": "python",
   "nbconvert_exporter": "python",
   "pygments_lexer": "ipython3",
   "version": "3.10.9"
  }
 },
 "nbformat": 4,
 "nbformat_minor": 1
}
